{
  "cells": [
    {
      "cell_type": "markdown",
      "metadata": {
        "id": "alIIEHibGc3M"
      },
      "source": [
        "## Part 1: Preprocessing"
      ]
    },
    {
      "cell_type": "code",
      "execution_count": 1,
      "metadata": {
        "colab": {
          "base_uri": "https://localhost:8080/",
          "height": 325
        },
        "id": "6eDUJ4NtGc3P",
        "outputId": "2480098c-135c-4cbf-9552-018494ee8ff5"
      },
      "outputs": [
        {
          "data": {
            "text/html": [
              "<div>\n",
              "<style scoped>\n",
              "    .dataframe tbody tr th:only-of-type {\n",
              "        vertical-align: middle;\n",
              "    }\n",
              "\n",
              "    .dataframe tbody tr th {\n",
              "        vertical-align: top;\n",
              "    }\n",
              "\n",
              "    .dataframe thead th {\n",
              "        text-align: right;\n",
              "    }\n",
              "</style>\n",
              "<table border=\"1\" class=\"dataframe\">\n",
              "  <thead>\n",
              "    <tr style=\"text-align: right;\">\n",
              "      <th></th>\n",
              "      <th>Age</th>\n",
              "      <th>Attrition</th>\n",
              "      <th>BusinessTravel</th>\n",
              "      <th>Department</th>\n",
              "      <th>DistanceFromHome</th>\n",
              "      <th>Education</th>\n",
              "      <th>EducationField</th>\n",
              "      <th>EnvironmentSatisfaction</th>\n",
              "      <th>HourlyRate</th>\n",
              "      <th>JobInvolvement</th>\n",
              "      <th>...</th>\n",
              "      <th>PerformanceRating</th>\n",
              "      <th>RelationshipSatisfaction</th>\n",
              "      <th>StockOptionLevel</th>\n",
              "      <th>TotalWorkingYears</th>\n",
              "      <th>TrainingTimesLastYear</th>\n",
              "      <th>WorkLifeBalance</th>\n",
              "      <th>YearsAtCompany</th>\n",
              "      <th>YearsInCurrentRole</th>\n",
              "      <th>YearsSinceLastPromotion</th>\n",
              "      <th>YearsWithCurrManager</th>\n",
              "    </tr>\n",
              "  </thead>\n",
              "  <tbody>\n",
              "    <tr>\n",
              "      <th>0</th>\n",
              "      <td>41</td>\n",
              "      <td>Yes</td>\n",
              "      <td>Travel_Rarely</td>\n",
              "      <td>Sales</td>\n",
              "      <td>1</td>\n",
              "      <td>2</td>\n",
              "      <td>Life Sciences</td>\n",
              "      <td>2</td>\n",
              "      <td>94</td>\n",
              "      <td>3</td>\n",
              "      <td>...</td>\n",
              "      <td>3</td>\n",
              "      <td>1</td>\n",
              "      <td>0</td>\n",
              "      <td>8</td>\n",
              "      <td>0</td>\n",
              "      <td>1</td>\n",
              "      <td>6</td>\n",
              "      <td>4</td>\n",
              "      <td>0</td>\n",
              "      <td>5</td>\n",
              "    </tr>\n",
              "    <tr>\n",
              "      <th>1</th>\n",
              "      <td>49</td>\n",
              "      <td>No</td>\n",
              "      <td>Travel_Frequently</td>\n",
              "      <td>Research &amp; Development</td>\n",
              "      <td>8</td>\n",
              "      <td>1</td>\n",
              "      <td>Life Sciences</td>\n",
              "      <td>3</td>\n",
              "      <td>61</td>\n",
              "      <td>2</td>\n",
              "      <td>...</td>\n",
              "      <td>4</td>\n",
              "      <td>4</td>\n",
              "      <td>1</td>\n",
              "      <td>10</td>\n",
              "      <td>3</td>\n",
              "      <td>3</td>\n",
              "      <td>10</td>\n",
              "      <td>7</td>\n",
              "      <td>1</td>\n",
              "      <td>7</td>\n",
              "    </tr>\n",
              "    <tr>\n",
              "      <th>2</th>\n",
              "      <td>37</td>\n",
              "      <td>Yes</td>\n",
              "      <td>Travel_Rarely</td>\n",
              "      <td>Research &amp; Development</td>\n",
              "      <td>2</td>\n",
              "      <td>2</td>\n",
              "      <td>Other</td>\n",
              "      <td>4</td>\n",
              "      <td>92</td>\n",
              "      <td>2</td>\n",
              "      <td>...</td>\n",
              "      <td>3</td>\n",
              "      <td>2</td>\n",
              "      <td>0</td>\n",
              "      <td>7</td>\n",
              "      <td>3</td>\n",
              "      <td>3</td>\n",
              "      <td>0</td>\n",
              "      <td>0</td>\n",
              "      <td>0</td>\n",
              "      <td>0</td>\n",
              "    </tr>\n",
              "    <tr>\n",
              "      <th>3</th>\n",
              "      <td>33</td>\n",
              "      <td>No</td>\n",
              "      <td>Travel_Frequently</td>\n",
              "      <td>Research &amp; Development</td>\n",
              "      <td>3</td>\n",
              "      <td>4</td>\n",
              "      <td>Life Sciences</td>\n",
              "      <td>4</td>\n",
              "      <td>56</td>\n",
              "      <td>3</td>\n",
              "      <td>...</td>\n",
              "      <td>3</td>\n",
              "      <td>3</td>\n",
              "      <td>0</td>\n",
              "      <td>8</td>\n",
              "      <td>3</td>\n",
              "      <td>3</td>\n",
              "      <td>8</td>\n",
              "      <td>7</td>\n",
              "      <td>3</td>\n",
              "      <td>0</td>\n",
              "    </tr>\n",
              "    <tr>\n",
              "      <th>4</th>\n",
              "      <td>27</td>\n",
              "      <td>No</td>\n",
              "      <td>Travel_Rarely</td>\n",
              "      <td>Research &amp; Development</td>\n",
              "      <td>2</td>\n",
              "      <td>1</td>\n",
              "      <td>Medical</td>\n",
              "      <td>1</td>\n",
              "      <td>40</td>\n",
              "      <td>3</td>\n",
              "      <td>...</td>\n",
              "      <td>3</td>\n",
              "      <td>4</td>\n",
              "      <td>1</td>\n",
              "      <td>6</td>\n",
              "      <td>3</td>\n",
              "      <td>3</td>\n",
              "      <td>2</td>\n",
              "      <td>2</td>\n",
              "      <td>2</td>\n",
              "      <td>2</td>\n",
              "    </tr>\n",
              "  </tbody>\n",
              "</table>\n",
              "<p>5 rows × 27 columns</p>\n",
              "</div>"
            ],
            "text/plain": [
              "   Age Attrition     BusinessTravel              Department  DistanceFromHome  \\\n",
              "0   41       Yes      Travel_Rarely                   Sales                 1   \n",
              "1   49        No  Travel_Frequently  Research & Development                 8   \n",
              "2   37       Yes      Travel_Rarely  Research & Development                 2   \n",
              "3   33        No  Travel_Frequently  Research & Development                 3   \n",
              "4   27        No      Travel_Rarely  Research & Development                 2   \n",
              "\n",
              "   Education EducationField  EnvironmentSatisfaction  HourlyRate  \\\n",
              "0          2  Life Sciences                        2          94   \n",
              "1          1  Life Sciences                        3          61   \n",
              "2          2          Other                        4          92   \n",
              "3          4  Life Sciences                        4          56   \n",
              "4          1        Medical                        1          40   \n",
              "\n",
              "   JobInvolvement  ...  PerformanceRating RelationshipSatisfaction  \\\n",
              "0               3  ...                  3                        1   \n",
              "1               2  ...                  4                        4   \n",
              "2               2  ...                  3                        2   \n",
              "3               3  ...                  3                        3   \n",
              "4               3  ...                  3                        4   \n",
              "\n",
              "   StockOptionLevel TotalWorkingYears  TrainingTimesLastYear WorkLifeBalance  \\\n",
              "0                 0                 8                      0               1   \n",
              "1                 1                10                      3               3   \n",
              "2                 0                 7                      3               3   \n",
              "3                 0                 8                      3               3   \n",
              "4                 1                 6                      3               3   \n",
              "\n",
              "   YearsAtCompany  YearsInCurrentRole  YearsSinceLastPromotion  \\\n",
              "0               6                   4                        0   \n",
              "1              10                   7                        1   \n",
              "2               0                   0                        0   \n",
              "3               8                   7                        3   \n",
              "4               2                   2                        2   \n",
              "\n",
              "   YearsWithCurrManager  \n",
              "0                     5  \n",
              "1                     7  \n",
              "2                     0  \n",
              "3                     0  \n",
              "4                     2  \n",
              "\n",
              "[5 rows x 27 columns]"
            ]
          },
          "execution_count": 1,
          "metadata": {},
          "output_type": "execute_result"
        }
      ],
      "source": [
        "# Import our dependencies\n",
        "from sklearn.model_selection import train_test_split\n",
        "from sklearn.preprocessing import StandardScaler\n",
        "import pandas as pd\n",
        "import numpy as np\n",
        "from tensorflow.keras.models import Model\n",
        "from tensorflow.keras import layers\n",
        "\n",
        "#  Import and read the attrition data\n",
        "attrition_df = pd.read_csv('https://static.bc-edx.com/ai/ail-v-1-0/m19/lms/datasets/attrition.csv')\n",
        "attrition_df.head()"
      ]
    },
    {
      "cell_type": "code",
      "execution_count": 2,
      "metadata": {
        "colab": {
          "base_uri": "https://localhost:8080/"
        },
        "id": "g22aQSY4Gc3Q",
        "outputId": "1f5c13c1-b981-4e40-a7ed-dd3fe6f1b81e"
      },
      "outputs": [
        {
          "data": {
            "text/plain": [
              "Age                         43\n",
              "Attrition                    2\n",
              "BusinessTravel               3\n",
              "Department                   3\n",
              "DistanceFromHome            29\n",
              "Education                    5\n",
              "EducationField               6\n",
              "EnvironmentSatisfaction      4\n",
              "HourlyRate                  71\n",
              "JobInvolvement               4\n",
              "JobLevel                     5\n",
              "JobRole                      9\n",
              "JobSatisfaction              4\n",
              "MaritalStatus                3\n",
              "NumCompaniesWorked          10\n",
              "OverTime                     2\n",
              "PercentSalaryHike           15\n",
              "PerformanceRating            2\n",
              "RelationshipSatisfaction     4\n",
              "StockOptionLevel             4\n",
              "TotalWorkingYears           40\n",
              "TrainingTimesLastYear        7\n",
              "WorkLifeBalance              4\n",
              "YearsAtCompany              37\n",
              "YearsInCurrentRole          19\n",
              "YearsSinceLastPromotion     16\n",
              "YearsWithCurrManager        18\n",
              "dtype: int64"
            ]
          },
          "execution_count": 2,
          "metadata": {},
          "output_type": "execute_result"
        }
      ],
      "source": [
        "# Determine the number of unique values in each column.\n",
        "attrition_df.nunique()"
      ]
    },
    {
      "cell_type": "code",
      "execution_count": 3,
      "metadata": {
        "id": "50vMgBEnJbfM"
      },
      "outputs": [],
      "source": [
        "# Create y_df with the Attrition and Department columns\n",
        "y_df = attrition_df[['Attrition', 'Department']]\n"
      ]
    },
    {
      "cell_type": "code",
      "execution_count": 4,
      "metadata": {
        "colab": {
          "base_uri": "https://localhost:8080/"
        },
        "id": "Virka0zLGc3R",
        "outputId": "dd5aee3a-9458-4ba6-e857-1b234de40915"
      },
      "outputs": [
        {
          "data": {
            "text/plain": [
              "Age                         int64\n",
              "BusinessTravel             object\n",
              "DistanceFromHome            int64\n",
              "EnvironmentSatisfaction     int64\n",
              "HourlyRate                  int64\n",
              "JobInvolvement              int64\n",
              "JobLevel                    int64\n",
              "JobRole                    object\n",
              "JobSatisfaction             int64\n",
              "OverTime                   object\n",
              "PercentSalaryHike           int64\n",
              "PerformanceRating           int64\n",
              "StockOptionLevel            int64\n",
              "TotalWorkingYears           int64\n",
              "TrainingTimesLastYear       int64\n",
              "WorkLifeBalance             int64\n",
              "YearsAtCompany              int64\n",
              "YearsInCurrentRole          int64\n",
              "YearsSinceLastPromotion     int64\n",
              "YearsWithCurrManager        int64\n",
              "dtype: object"
            ]
          },
          "execution_count": 4,
          "metadata": {},
          "output_type": "execute_result"
        }
      ],
      "source": [
        "# Create a list of at least 10 column names to use as X data\n",
        "selected_columns = attrition_df.drop(columns=['Attrition', 'Department']).columns\n",
        "                    \n",
        "# Create X_df using your selected columns\n",
        "X_df = attrition_df[selected_columns].drop(columns=[\n",
        "    'Education', 'EducationField', 'MaritalStatus', 'NumCompaniesWorked',\n",
        "    'RelationshipSatisfaction']) # removing fields the company doesn't have control over\n",
        "\n",
        "# Show the data types for X_df\n",
        "X_df.dtypes\n"
      ]
    },
    {
      "cell_type": "code",
      "execution_count": 5,
      "metadata": {
        "id": "KaJfdOGUMHMR"
      },
      "outputs": [],
      "source": [
        "# Split the data into training and testing sets\n",
        "from sklearn.model_selection import train_test_split\n",
        "\n",
        "X_train, X_test, y_train, y_test = train_test_split(X_df, y_df)\n"
      ]
    },
    {
      "cell_type": "code",
      "execution_count": 6,
      "metadata": {},
      "outputs": [
        {
          "data": {
            "text/plain": [
              "Travel_Rarely        785\n",
              "Travel_Frequently    208\n",
              "Non-Travel           109\n",
              "Name: BusinessTravel, dtype: int64"
            ]
          },
          "execution_count": 6,
          "metadata": {},
          "output_type": "execute_result"
        }
      ],
      "source": [
        "X_train['BusinessTravel'].value_counts()"
      ]
    },
    {
      "cell_type": "code",
      "execution_count": 7,
      "metadata": {},
      "outputs": [
        {
          "data": {
            "text/html": [
              "<div>\n",
              "<style scoped>\n",
              "    .dataframe tbody tr th:only-of-type {\n",
              "        vertical-align: middle;\n",
              "    }\n",
              "\n",
              "    .dataframe tbody tr th {\n",
              "        vertical-align: top;\n",
              "    }\n",
              "\n",
              "    .dataframe thead th {\n",
              "        text-align: right;\n",
              "    }\n",
              "</style>\n",
              "<table border=\"1\" class=\"dataframe\">\n",
              "  <thead>\n",
              "    <tr style=\"text-align: right;\">\n",
              "      <th></th>\n",
              "      <th>Age</th>\n",
              "      <th>DistanceFromHome</th>\n",
              "      <th>EnvironmentSatisfaction</th>\n",
              "      <th>HourlyRate</th>\n",
              "      <th>JobInvolvement</th>\n",
              "      <th>JobLevel</th>\n",
              "      <th>JobRole</th>\n",
              "      <th>JobSatisfaction</th>\n",
              "      <th>OverTime</th>\n",
              "      <th>PercentSalaryHike</th>\n",
              "      <th>...</th>\n",
              "      <th>TotalWorkingYears</th>\n",
              "      <th>TrainingTimesLastYear</th>\n",
              "      <th>WorkLifeBalance</th>\n",
              "      <th>YearsAtCompany</th>\n",
              "      <th>YearsInCurrentRole</th>\n",
              "      <th>YearsSinceLastPromotion</th>\n",
              "      <th>YearsWithCurrManager</th>\n",
              "      <th>BusinessTravel_Non-Travel</th>\n",
              "      <th>BusinessTravel_Travel_Frequently</th>\n",
              "      <th>BusinessTravel_Travel_Rarely</th>\n",
              "    </tr>\n",
              "  </thead>\n",
              "  <tbody>\n",
              "    <tr>\n",
              "      <th>766</th>\n",
              "      <td>50</td>\n",
              "      <td>2</td>\n",
              "      <td>2</td>\n",
              "      <td>62</td>\n",
              "      <td>3</td>\n",
              "      <td>5</td>\n",
              "      <td>Research Director</td>\n",
              "      <td>3</td>\n",
              "      <td>Yes</td>\n",
              "      <td>11</td>\n",
              "      <td>...</td>\n",
              "      <td>29</td>\n",
              "      <td>2</td>\n",
              "      <td>2</td>\n",
              "      <td>8</td>\n",
              "      <td>1</td>\n",
              "      <td>7</td>\n",
              "      <td>7</td>\n",
              "      <td>0.0</td>\n",
              "      <td>0.0</td>\n",
              "      <td>1.0</td>\n",
              "    </tr>\n",
              "    <tr>\n",
              "      <th>1101</th>\n",
              "      <td>32</td>\n",
              "      <td>5</td>\n",
              "      <td>4</td>\n",
              "      <td>67</td>\n",
              "      <td>2</td>\n",
              "      <td>2</td>\n",
              "      <td>Research Scientist</td>\n",
              "      <td>2</td>\n",
              "      <td>No</td>\n",
              "      <td>12</td>\n",
              "      <td>...</td>\n",
              "      <td>12</td>\n",
              "      <td>2</td>\n",
              "      <td>3</td>\n",
              "      <td>7</td>\n",
              "      <td>1</td>\n",
              "      <td>2</td>\n",
              "      <td>5</td>\n",
              "      <td>0.0</td>\n",
              "      <td>0.0</td>\n",
              "      <td>1.0</td>\n",
              "    </tr>\n",
              "  </tbody>\n",
              "</table>\n",
              "<p>2 rows × 22 columns</p>\n",
              "</div>"
            ],
            "text/plain": [
              "      Age  DistanceFromHome  EnvironmentSatisfaction  HourlyRate  \\\n",
              "766    50                 2                        2          62   \n",
              "1101   32                 5                        4          67   \n",
              "\n",
              "      JobInvolvement  JobLevel             JobRole  JobSatisfaction OverTime  \\\n",
              "766                3         5   Research Director                3      Yes   \n",
              "1101               2         2  Research Scientist                2       No   \n",
              "\n",
              "      PercentSalaryHike  ...  TotalWorkingYears  TrainingTimesLastYear  \\\n",
              "766                  11  ...                 29                      2   \n",
              "1101                 12  ...                 12                      2   \n",
              "\n",
              "      WorkLifeBalance  YearsAtCompany  YearsInCurrentRole  \\\n",
              "766                 2               8                   1   \n",
              "1101                3               7                   1   \n",
              "\n",
              "      YearsSinceLastPromotion  YearsWithCurrManager  \\\n",
              "766                         7                     7   \n",
              "1101                        2                     5   \n",
              "\n",
              "      BusinessTravel_Non-Travel  BusinessTravel_Travel_Frequently  \\\n",
              "766                         0.0                               0.0   \n",
              "1101                        0.0                               0.0   \n",
              "\n",
              "      BusinessTravel_Travel_Rarely  \n",
              "766                            1.0  \n",
              "1101                           1.0  \n",
              "\n",
              "[2 rows x 22 columns]"
            ]
          },
          "execution_count": 7,
          "metadata": {},
          "output_type": "execute_result"
        }
      ],
      "source": [
        "# one-hot encode the BusinessTravel column\n",
        "from sklearn.preprocessing import OneHotEncoder\n",
        "ohe = OneHotEncoder(handle_unknown='ignore', sparse_output=False)\n",
        "\n",
        "bt_ohe = ohe.fit_transform(X_train[['BusinessTravel']])\n",
        "test_bt_ohe = ohe.transform(X_test[['BusinessTravel']])\n",
        "\n",
        "X_train[ohe.get_feature_names_out()] = bt_ohe\n",
        "X_test[ohe.get_feature_names_out()] = test_bt_ohe\n",
        "\n",
        "X_train = X_train.drop(columns=['BusinessTravel'])\n",
        "X_test = X_test.drop(columns=['BusinessTravel'])\n",
        "\n",
        "X_train.head(2)"
      ]
    },
    {
      "cell_type": "code",
      "execution_count": 8,
      "metadata": {},
      "outputs": [
        {
          "data": {
            "text/plain": [
              "Sales Executive              238\n",
              "Research Scientist           217\n",
              "Laboratory Technician        202\n",
              "Manufacturing Director       110\n",
              "Healthcare Representative     98\n",
              "Manager                       74\n",
              "Research Director             63\n",
              "Sales Representative          60\n",
              "Human Resources               40\n",
              "Name: JobRole, dtype: int64"
            ]
          },
          "execution_count": 8,
          "metadata": {},
          "output_type": "execute_result"
        }
      ],
      "source": [
        "X_train['JobRole'].value_counts()"
      ]
    },
    {
      "cell_type": "code",
      "execution_count": 9,
      "metadata": {},
      "outputs": [],
      "source": [
        "# label encode the JobRole column\n",
        "from sklearn.preprocessing import LabelEncoder\n",
        "\n",
        "label_encoder = LabelEncoder().fit(X_train['JobRole'])\n",
        "X_train['JobRole'] = label_encoder.transform(X_train['JobRole'])\n",
        "X_test['JobRole'] = label_encoder.transform(X_test['JobRole'])"
      ]
    },
    {
      "cell_type": "code",
      "execution_count": 10,
      "metadata": {},
      "outputs": [
        {
          "data": {
            "text/plain": [
              "7    238\n",
              "6    217\n",
              "2    202\n",
              "4    110\n",
              "0     98\n",
              "3     74\n",
              "5     63\n",
              "8     60\n",
              "1     40\n",
              "Name: JobRole, dtype: int64"
            ]
          },
          "execution_count": 10,
          "metadata": {},
          "output_type": "execute_result"
        }
      ],
      "source": [
        "X_train['JobRole'].value_counts()"
      ]
    },
    {
      "cell_type": "code",
      "execution_count": 11,
      "metadata": {},
      "outputs": [
        {
          "data": {
            "text/plain": [
              "No     786\n",
              "Yes    316\n",
              "Name: OverTime, dtype: int64"
            ]
          },
          "execution_count": 11,
          "metadata": {},
          "output_type": "execute_result"
        }
      ],
      "source": [
        "X_train['OverTime'].value_counts()"
      ]
    },
    {
      "cell_type": "code",
      "execution_count": 12,
      "metadata": {},
      "outputs": [],
      "source": [
        "X_train['OverTime'] = X_train['OverTime'].apply(lambda x: 1 if x == 'Yes' else 0)\n",
        "X_test['OverTime'] = X_test['OverTime'].apply(lambda x: 1 if x == 'Yes' else 0)"
      ]
    },
    {
      "cell_type": "code",
      "execution_count": 13,
      "metadata": {
        "colab": {
          "base_uri": "https://localhost:8080/"
        },
        "id": "NYubUJqiLCSp",
        "outputId": "53f31721-571c-4c94-d13e-25a715749593"
      },
      "outputs": [],
      "source": [
        "# Convert your X data to numeric data types however you see fit\n",
        "# Add new code cells as necessary\n",
        "\n",
        "# See above"
      ]
    },
    {
      "cell_type": "code",
      "execution_count": 14,
      "metadata": {
        "id": "EWA-aIA5Gc3T"
      },
      "outputs": [],
      "source": [
        "# Create a StandardScaler\n",
        "# Fit the StandardScaler to the training data\n",
        "from sklearn.preprocessing import StandardScaler\n",
        "scaler = StandardScaler().fit(X_train)\n",
        "\n",
        "# Scale the training and testing data\n",
        "X_train = scaler.transform(X_train)\n",
        "X_scaled_test = scaler.transform(X_test)\n"
      ]
    },
    {
      "cell_type": "code",
      "execution_count": 15,
      "metadata": {
        "colab": {
          "base_uri": "https://localhost:8080/"
        },
        "id": "-z0Mky8vQSz4",
        "outputId": "debefc85-c20b-48f5-f4d9-91eadd65d36a"
      },
      "outputs": [],
      "source": [
        "# Create a OneHotEncoder for the Department column\n",
        "ohe = OneHotEncoder(handle_unknown='ignore', sparse_output=False)\n",
        "\n",
        "# Fit the encoder to the training data\n",
        "dept_ohe = ohe.fit_transform(y_train[['Department']])\n",
        "test_dept_ohe = ohe.transform(y_test[['Department']])\n",
        "\n",
        "# Create two new variables by applying the encoder\n",
        "# to the training and testing data\n",
        "\n",
        "y_train_dep = pd.DataFrame(dept_ohe, columns=ohe.get_feature_names_out())\n",
        "y_test_dep = pd.DataFrame(test_dept_ohe, columns=ohe.get_feature_names_out())\n",
        "\n",
        "y_train = y_train.drop(columns=['Department'])\n",
        "y_test = y_test.drop(columns=['Department'])\n"
      ]
    },
    {
      "cell_type": "code",
      "execution_count": 16,
      "metadata": {
        "colab": {
          "base_uri": "https://localhost:8080/"
        },
        "id": "-G4DSpvFRrk4",
        "outputId": "9842e948-8a55-4b80-8fac-f96714e85589"
      },
      "outputs": [
        {
          "data": {
            "text/html": [
              "<div>\n",
              "<style scoped>\n",
              "    .dataframe tbody tr th:only-of-type {\n",
              "        vertical-align: middle;\n",
              "    }\n",
              "\n",
              "    .dataframe tbody tr th {\n",
              "        vertical-align: top;\n",
              "    }\n",
              "\n",
              "    .dataframe thead th {\n",
              "        text-align: right;\n",
              "    }\n",
              "</style>\n",
              "<table border=\"1\" class=\"dataframe\">\n",
              "  <thead>\n",
              "    <tr style=\"text-align: right;\">\n",
              "      <th></th>\n",
              "      <th>Attrition_No</th>\n",
              "      <th>Attrition_Yes</th>\n",
              "    </tr>\n",
              "  </thead>\n",
              "  <tbody>\n",
              "    <tr>\n",
              "      <th>0</th>\n",
              "      <td>1.0</td>\n",
              "      <td>0.0</td>\n",
              "    </tr>\n",
              "    <tr>\n",
              "      <th>1</th>\n",
              "      <td>1.0</td>\n",
              "      <td>0.0</td>\n",
              "    </tr>\n",
              "    <tr>\n",
              "      <th>2</th>\n",
              "      <td>1.0</td>\n",
              "      <td>0.0</td>\n",
              "    </tr>\n",
              "    <tr>\n",
              "      <th>3</th>\n",
              "      <td>1.0</td>\n",
              "      <td>0.0</td>\n",
              "    </tr>\n",
              "    <tr>\n",
              "      <th>4</th>\n",
              "      <td>1.0</td>\n",
              "      <td>0.0</td>\n",
              "    </tr>\n",
              "    <tr>\n",
              "      <th>...</th>\n",
              "      <td>...</td>\n",
              "      <td>...</td>\n",
              "    </tr>\n",
              "    <tr>\n",
              "      <th>1097</th>\n",
              "      <td>1.0</td>\n",
              "      <td>0.0</td>\n",
              "    </tr>\n",
              "    <tr>\n",
              "      <th>1098</th>\n",
              "      <td>1.0</td>\n",
              "      <td>0.0</td>\n",
              "    </tr>\n",
              "    <tr>\n",
              "      <th>1099</th>\n",
              "      <td>1.0</td>\n",
              "      <td>0.0</td>\n",
              "    </tr>\n",
              "    <tr>\n",
              "      <th>1100</th>\n",
              "      <td>1.0</td>\n",
              "      <td>0.0</td>\n",
              "    </tr>\n",
              "    <tr>\n",
              "      <th>1101</th>\n",
              "      <td>1.0</td>\n",
              "      <td>0.0</td>\n",
              "    </tr>\n",
              "  </tbody>\n",
              "</table>\n",
              "<p>1102 rows × 2 columns</p>\n",
              "</div>"
            ],
            "text/plain": [
              "      Attrition_No  Attrition_Yes\n",
              "0              1.0            0.0\n",
              "1              1.0            0.0\n",
              "2              1.0            0.0\n",
              "3              1.0            0.0\n",
              "4              1.0            0.0\n",
              "...            ...            ...\n",
              "1097           1.0            0.0\n",
              "1098           1.0            0.0\n",
              "1099           1.0            0.0\n",
              "1100           1.0            0.0\n",
              "1101           1.0            0.0\n",
              "\n",
              "[1102 rows x 2 columns]"
            ]
          },
          "metadata": {},
          "output_type": "display_data"
        }
      ],
      "source": [
        "# Create a OneHotEncoder for the Attrition column\n",
        "ohe = OneHotEncoder(handle_unknown='ignore', sparse_output=False) # drop first to reduce multicollinearity\n",
        "\n",
        "attrition_ohe = ohe.fit_transform(y_train[['Attrition']])\n",
        "test_attrition_ohe = ohe.transform(y_test[['Attrition']])\n",
        "\n",
        "# Fit the encoder to the training data\n",
        "\n",
        "\n",
        "# Create two new variables by applying the encoder\n",
        "# to the training and testing data\n",
        "\n",
        "y_train_att = pd.DataFrame(attrition_ohe, columns=ohe.get_feature_names_out())\n",
        "y_test_att = pd.DataFrame(test_attrition_ohe, columns=ohe.get_feature_names_out())\n",
        "\n",
        "display(y_train_att)\n"
      ]
    },
    {
      "cell_type": "markdown",
      "metadata": {
        "id": "ykNmu_WWGc3T"
      },
      "source": [
        "## Create, Compile, and Train the Model"
      ]
    },
    {
      "cell_type": "code",
      "execution_count": 17,
      "metadata": {
        "id": "WUptZqmSGc3T"
      },
      "outputs": [],
      "source": [
        "# Find the number of columns in the X training data\n",
        "inputs = X_train.shape[1:]\n",
        "\n",
        "# Create the input layer\n",
        "input_layer = layers.Input(shape=(inputs))\n",
        "\n",
        "# Create at least two shared layers\n",
        "shared_layer1 = layers.Dense(128, activation='relu')(input_layer)\n",
        "shared_layer2 = layers.Dense(64, activation='relu')(shared_layer1)\n",
        "shared_layer3 = layers.Dense(32, activation='relu')(shared_layer2)\n"
      ]
    },
    {
      "cell_type": "code",
      "execution_count": 18,
      "metadata": {
        "id": "JukjTm2yTEqd"
      },
      "outputs": [],
      "source": [
        "# Create a branch for Department\n",
        "# with a hidden layer and an output layer\n",
        "\n",
        "# Create the hidden layer\n",
        "dept_hidden = layers.Dense(16, activation='relu')(shared_layer3)\n",
        "\n",
        "# Create the output layer\n",
        "dept_output = layers.Dense(y_train_dep.shape[1], activation='softmax', name='dept_output')(dept_hidden)\n"
      ]
    },
    {
      "cell_type": "code",
      "execution_count": 19,
      "metadata": {
        "id": "9OqhUiOJUBkR"
      },
      "outputs": [],
      "source": [
        "# Create a branch for Attrition\n",
        "# with a hidden layer and an output layer\n",
        "\n",
        "# Create the hidden layer\n",
        "attr_hidden = layers.Dense(16, activation='relu')(shared_layer3)\n",
        "\n",
        "# Create the output layer\n",
        "attr_output = layers.Dense(y_train_att.shape[1], activation='sigmoid', name='attr_output')(attr_hidden)\n"
      ]
    },
    {
      "cell_type": "code",
      "execution_count": 20,
      "metadata": {
        "colab": {
          "base_uri": "https://localhost:8080/"
        },
        "id": "twmuejdxGc3T",
        "outputId": "25096308-b68b-42e4-e4ea-ae82e97c435a"
      },
      "outputs": [
        {
          "name": "stdout",
          "output_type": "stream",
          "text": [
            "Model: \"model\"\n",
            "__________________________________________________________________________________________________\n",
            " Layer (type)                Output Shape                 Param #   Connected to                  \n",
            "==================================================================================================\n",
            " input_1 (InputLayer)        [(None, 22)]                 0         []                            \n",
            "                                                                                                  \n",
            " dense (Dense)               (None, 128)                  2944      ['input_1[0][0]']             \n",
            "                                                                                                  \n"
          ]
        },
        {
          "name": "stdout",
          "output_type": "stream",
          "text": [
            " dense_1 (Dense)             (None, 64)                   8256      ['dense[0][0]']               \n",
            "                                                                                                  \n",
            " dense_2 (Dense)             (None, 32)                   2080      ['dense_1[0][0]']             \n",
            "                                                                                                  \n",
            " dense_3 (Dense)             (None, 16)                   528       ['dense_2[0][0]']             \n",
            "                                                                                                  \n",
            " dense_4 (Dense)             (None, 16)                   528       ['dense_2[0][0]']             \n",
            "                                                                                                  \n",
            " dept_output (Dense)         (None, 3)                    51        ['dense_3[0][0]']             \n",
            "                                                                                                  \n",
            " attr_output (Dense)         (None, 2)                    34        ['dense_4[0][0]']             \n",
            "                                                                                                  \n",
            "==================================================================================================\n",
            "Total params: 14421 (56.33 KB)\n",
            "Trainable params: 14421 (56.33 KB)\n",
            "Non-trainable params: 0 (0.00 Byte)\n",
            "__________________________________________________________________________________________________\n"
          ]
        }
      ],
      "source": [
        "# Create the model\n",
        "nn_model = Model(inputs=input_layer, outputs=[dept_output, attr_output])\n",
        "\n",
        "# Compile the model\n",
        "nn_model.compile(optimizer='adam',\n",
        "                loss={'dept_output': 'categorical_crossentropy', 'attr_output': 'binary_crossentropy'},\n",
        "                metrics={'dept_output': 'accuracy', 'attr_output': 'accuracy'})\n",
        "\n",
        "\n",
        "# Summarize the model\n",
        "nn_model.summary()\n"
      ]
    },
    {
      "cell_type": "code",
      "execution_count": 21,
      "metadata": {
        "colab": {
          "base_uri": "https://localhost:8080/"
        },
        "id": "c8oGy0dpGc3U",
        "outputId": "cc667d43-28cf-42d4-d719-c2bc02888d30"
      },
      "outputs": [
        {
          "name": "stdout",
          "output_type": "stream",
          "text": [
            "Epoch 1/100\n",
            "9/9 [==============================] - 3s 64ms/step - loss: 1.6749 - dept_output_loss: 0.9298 - attr_output_loss: 0.7452 - dept_output_accuracy: 0.6220 - attr_output_accuracy: 0.2633 - val_loss: 1.4844 - val_dept_output_loss: 0.7966 - val_attr_output_loss: 0.6877 - val_dept_output_accuracy: 0.6878 - val_attr_output_accuracy: 0.5928\n",
            "Epoch 2/100\n",
            "9/9 [==============================] - 0s 8ms/step - loss: 1.4512 - dept_output_loss: 0.8001 - attr_output_loss: 0.6511 - dept_output_accuracy: 0.6538 - attr_output_accuracy: 0.8093 - val_loss: 1.3500 - val_dept_output_loss: 0.7320 - val_attr_output_loss: 0.6180 - val_dept_output_accuracy: 0.6878 - val_attr_output_accuracy: 0.8190\n",
            "Epoch 3/100\n",
            "9/9 [==============================] - 0s 8ms/step - loss: 1.3384 - dept_output_loss: 0.7630 - attr_output_loss: 0.5754 - dept_output_accuracy: 0.6538 - attr_output_accuracy: 0.8434 - val_loss: 1.2661 - val_dept_output_loss: 0.7181 - val_attr_output_loss: 0.5480 - val_dept_output_accuracy: 0.6878 - val_attr_output_accuracy: 0.8190\n",
            "Epoch 4/100\n",
            "9/9 [==============================] - 0s 7ms/step - loss: 1.2267 - dept_output_loss: 0.7296 - attr_output_loss: 0.4971 - dept_output_accuracy: 0.6538 - attr_output_accuracy: 0.8434 - val_loss: 1.1870 - val_dept_output_loss: 0.6921 - val_attr_output_loss: 0.4950 - val_dept_output_accuracy: 0.6878 - val_attr_output_accuracy: 0.8190\n",
            "Epoch 5/100\n",
            "9/9 [==============================] - 0s 7ms/step - loss: 1.1179 - dept_output_loss: 0.6733 - attr_output_loss: 0.4446 - dept_output_accuracy: 0.6538 - attr_output_accuracy: 0.8434 - val_loss: 1.1188 - val_dept_output_loss: 0.6462 - val_attr_output_loss: 0.4726 - val_dept_output_accuracy: 0.6878 - val_attr_output_accuracy: 0.8190\n",
            "Epoch 6/100\n",
            "9/9 [==============================] - 0s 9ms/step - loss: 1.0173 - dept_output_loss: 0.5957 - attr_output_loss: 0.4217 - dept_output_accuracy: 0.6958 - attr_output_accuracy: 0.8434 - val_loss: 1.0472 - val_dept_output_loss: 0.5807 - val_attr_output_loss: 0.4665 - val_dept_output_accuracy: 0.7647 - val_attr_output_accuracy: 0.8190\n",
            "Epoch 7/100\n",
            "9/9 [==============================] - 0s 8ms/step - loss: 0.9188 - dept_output_loss: 0.5133 - attr_output_loss: 0.4055 - dept_output_accuracy: 0.8297 - attr_output_accuracy: 0.8434 - val_loss: 0.9767 - val_dept_output_loss: 0.5215 - val_attr_output_loss: 0.4551 - val_dept_output_accuracy: 0.8507 - val_attr_output_accuracy: 0.8190\n",
            "Epoch 8/100\n",
            "9/9 [==============================] - 0s 7ms/step - loss: 0.8346 - dept_output_loss: 0.4445 - attr_output_loss: 0.3901 - dept_output_accuracy: 0.9024 - attr_output_accuracy: 0.8434 - val_loss: 0.9460 - val_dept_output_loss: 0.5027 - val_attr_output_loss: 0.4433 - val_dept_output_accuracy: 0.8597 - val_attr_output_accuracy: 0.8190\n",
            "Epoch 9/100\n",
            "9/9 [==============================] - 0s 8ms/step - loss: 0.7604 - dept_output_loss: 0.3839 - attr_output_loss: 0.3765 - dept_output_accuracy: 0.9012 - attr_output_accuracy: 0.8434 - val_loss: 0.9093 - val_dept_output_loss: 0.4708 - val_attr_output_loss: 0.4385 - val_dept_output_accuracy: 0.8507 - val_attr_output_accuracy: 0.8190\n",
            "Epoch 10/100\n",
            "9/9 [==============================] - 0s 8ms/step - loss: 0.7034 - dept_output_loss: 0.3388 - attr_output_loss: 0.3646 - dept_output_accuracy: 0.9047 - attr_output_accuracy: 0.8434 - val_loss: 0.8963 - val_dept_output_loss: 0.4679 - val_attr_output_loss: 0.4284 - val_dept_output_accuracy: 0.8688 - val_attr_output_accuracy: 0.8190\n",
            "Epoch 11/100\n",
            "9/9 [==============================] - 0s 10ms/step - loss: 0.6505 - dept_output_loss: 0.2980 - attr_output_loss: 0.3525 - dept_output_accuracy: 0.9171 - attr_output_accuracy: 0.8456 - val_loss: 0.8868 - val_dept_output_loss: 0.4642 - val_attr_output_loss: 0.4225 - val_dept_output_accuracy: 0.8733 - val_attr_output_accuracy: 0.8190\n",
            "Epoch 12/100\n",
            "9/9 [==============================] - 0s 9ms/step - loss: 0.6132 - dept_output_loss: 0.2690 - attr_output_loss: 0.3442 - dept_output_accuracy: 0.9149 - attr_output_accuracy: 0.8468 - val_loss: 0.8965 - val_dept_output_loss: 0.4759 - val_attr_output_loss: 0.4206 - val_dept_output_accuracy: 0.8688 - val_attr_output_accuracy: 0.8190\n",
            "Epoch 13/100\n",
            "9/9 [==============================] - 0s 10ms/step - loss: 0.5792 - dept_output_loss: 0.2454 - attr_output_loss: 0.3338 - dept_output_accuracy: 0.9205 - attr_output_accuracy: 0.8479 - val_loss: 0.8709 - val_dept_output_loss: 0.4566 - val_attr_output_loss: 0.4143 - val_dept_output_accuracy: 0.8733 - val_attr_output_accuracy: 0.8235\n",
            "Epoch 14/100\n",
            "9/9 [==============================] - 0s 9ms/step - loss: 0.5484 - dept_output_loss: 0.2221 - attr_output_loss: 0.3263 - dept_output_accuracy: 0.9262 - attr_output_accuracy: 0.8570 - val_loss: 0.8875 - val_dept_output_loss: 0.4765 - val_attr_output_loss: 0.4111 - val_dept_output_accuracy: 0.8688 - val_attr_output_accuracy: 0.8281\n",
            "Epoch 15/100\n",
            "9/9 [==============================] - 0s 8ms/step - loss: 0.5277 - dept_output_loss: 0.2076 - attr_output_loss: 0.3201 - dept_output_accuracy: 0.9228 - attr_output_accuracy: 0.8649 - val_loss: 0.8879 - val_dept_output_loss: 0.4842 - val_attr_output_loss: 0.4038 - val_dept_output_accuracy: 0.8688 - val_attr_output_accuracy: 0.8281\n",
            "Epoch 16/100\n",
            "9/9 [==============================] - 0s 10ms/step - loss: 0.4992 - dept_output_loss: 0.1866 - attr_output_loss: 0.3125 - dept_output_accuracy: 0.9285 - attr_output_accuracy: 0.8797 - val_loss: 0.8905 - val_dept_output_loss: 0.4798 - val_attr_output_loss: 0.4107 - val_dept_output_accuracy: 0.8597 - val_attr_output_accuracy: 0.8281\n",
            "Epoch 17/100\n",
            "9/9 [==============================] - 0s 10ms/step - loss: 0.4768 - dept_output_loss: 0.1759 - attr_output_loss: 0.3009 - dept_output_accuracy: 0.9421 - attr_output_accuracy: 0.8854 - val_loss: 0.9044 - val_dept_output_loss: 0.5025 - val_attr_output_loss: 0.4019 - val_dept_output_accuracy: 0.8733 - val_attr_output_accuracy: 0.8416\n",
            "Epoch 18/100\n",
            "9/9 [==============================] - 0s 9ms/step - loss: 0.4542 - dept_output_loss: 0.1588 - attr_output_loss: 0.2953 - dept_output_accuracy: 0.9398 - attr_output_accuracy: 0.8820 - val_loss: 0.9255 - val_dept_output_loss: 0.5199 - val_attr_output_loss: 0.4055 - val_dept_output_accuracy: 0.8552 - val_attr_output_accuracy: 0.8371\n",
            "Epoch 19/100\n",
            "9/9 [==============================] - 0s 10ms/step - loss: 0.4315 - dept_output_loss: 0.1433 - attr_output_loss: 0.2882 - dept_output_accuracy: 0.9478 - attr_output_accuracy: 0.8854 - val_loss: 0.9121 - val_dept_output_loss: 0.5074 - val_attr_output_loss: 0.4048 - val_dept_output_accuracy: 0.8643 - val_attr_output_accuracy: 0.8416\n",
            "Epoch 20/100\n",
            "9/9 [==============================] - 0s 8ms/step - loss: 0.4174 - dept_output_loss: 0.1355 - attr_output_loss: 0.2819 - dept_output_accuracy: 0.9467 - attr_output_accuracy: 0.8910 - val_loss: 0.9727 - val_dept_output_loss: 0.5651 - val_attr_output_loss: 0.4076 - val_dept_output_accuracy: 0.8371 - val_attr_output_accuracy: 0.8462\n",
            "Epoch 21/100\n",
            "9/9 [==============================] - 0s 9ms/step - loss: 0.4036 - dept_output_loss: 0.1274 - attr_output_loss: 0.2762 - dept_output_accuracy: 0.9603 - attr_output_accuracy: 0.8967 - val_loss: 0.9389 - val_dept_output_loss: 0.5309 - val_attr_output_loss: 0.4080 - val_dept_output_accuracy: 0.8643 - val_attr_output_accuracy: 0.8462\n",
            "Epoch 22/100\n",
            "9/9 [==============================] - 0s 8ms/step - loss: 0.3792 - dept_output_loss: 0.1090 - attr_output_loss: 0.2702 - dept_output_accuracy: 0.9614 - attr_output_accuracy: 0.8978 - val_loss: 0.9641 - val_dept_output_loss: 0.5522 - val_attr_output_loss: 0.4120 - val_dept_output_accuracy: 0.8597 - val_attr_output_accuracy: 0.8507\n",
            "Epoch 23/100\n",
            "9/9 [==============================] - 0s 8ms/step - loss: 0.3654 - dept_output_loss: 0.1017 - attr_output_loss: 0.2638 - dept_output_accuracy: 0.9716 - attr_output_accuracy: 0.9001 - val_loss: 0.9679 - val_dept_output_loss: 0.5563 - val_attr_output_loss: 0.4117 - val_dept_output_accuracy: 0.8597 - val_attr_output_accuracy: 0.8416\n",
            "Epoch 24/100\n",
            "9/9 [==============================] - 0s 7ms/step - loss: 0.3527 - dept_output_loss: 0.0945 - attr_output_loss: 0.2582 - dept_output_accuracy: 0.9671 - attr_output_accuracy: 0.9024 - val_loss: 0.9813 - val_dept_output_loss: 0.5666 - val_attr_output_loss: 0.4147 - val_dept_output_accuracy: 0.8371 - val_attr_output_accuracy: 0.8416\n",
            "Epoch 25/100\n",
            "9/9 [==============================] - 0s 12ms/step - loss: 0.3415 - dept_output_loss: 0.0891 - attr_output_loss: 0.2525 - dept_output_accuracy: 0.9739 - attr_output_accuracy: 0.9081 - val_loss: 1.0245 - val_dept_output_loss: 0.6072 - val_attr_output_loss: 0.4173 - val_dept_output_accuracy: 0.8416 - val_attr_output_accuracy: 0.8416\n",
            "Epoch 26/100\n",
            "9/9 [==============================] - 0s 7ms/step - loss: 0.3276 - dept_output_loss: 0.0815 - attr_output_loss: 0.2462 - dept_output_accuracy: 0.9762 - attr_output_accuracy: 0.9035 - val_loss: 1.0095 - val_dept_output_loss: 0.5851 - val_attr_output_loss: 0.4244 - val_dept_output_accuracy: 0.8643 - val_attr_output_accuracy: 0.8416\n",
            "Epoch 27/100\n",
            "9/9 [==============================] - 0s 7ms/step - loss: 0.3164 - dept_output_loss: 0.0784 - attr_output_loss: 0.2380 - dept_output_accuracy: 0.9728 - attr_output_accuracy: 0.9126 - val_loss: 1.0696 - val_dept_output_loss: 0.6455 - val_attr_output_loss: 0.4240 - val_dept_output_accuracy: 0.8281 - val_attr_output_accuracy: 0.8371\n",
            "Epoch 28/100\n",
            "9/9 [==============================] - 0s 7ms/step - loss: 0.2997 - dept_output_loss: 0.0686 - attr_output_loss: 0.2312 - dept_output_accuracy: 0.9841 - attr_output_accuracy: 0.9137 - val_loss: 1.0486 - val_dept_output_loss: 0.6148 - val_attr_output_loss: 0.4337 - val_dept_output_accuracy: 0.8597 - val_attr_output_accuracy: 0.8326\n",
            "Epoch 29/100\n",
            "9/9 [==============================] - 0s 10ms/step - loss: 0.2913 - dept_output_loss: 0.0643 - attr_output_loss: 0.2270 - dept_output_accuracy: 0.9762 - attr_output_accuracy: 0.9092 - val_loss: 1.0853 - val_dept_output_loss: 0.6538 - val_attr_output_loss: 0.4315 - val_dept_output_accuracy: 0.8416 - val_attr_output_accuracy: 0.8235\n",
            "Epoch 30/100\n",
            "9/9 [==============================] - 0s 10ms/step - loss: 0.2807 - dept_output_loss: 0.0597 - attr_output_loss: 0.2210 - dept_output_accuracy: 0.9784 - attr_output_accuracy: 0.9251 - val_loss: 1.1038 - val_dept_output_loss: 0.6602 - val_attr_output_loss: 0.4435 - val_dept_output_accuracy: 0.8552 - val_attr_output_accuracy: 0.8281\n",
            "Epoch 31/100\n",
            "9/9 [==============================] - 0s 12ms/step - loss: 0.2715 - dept_output_loss: 0.0550 - attr_output_loss: 0.2165 - dept_output_accuracy: 0.9909 - attr_output_accuracy: 0.9137 - val_loss: 1.1101 - val_dept_output_loss: 0.6699 - val_attr_output_loss: 0.4402 - val_dept_output_accuracy: 0.8552 - val_attr_output_accuracy: 0.8281\n",
            "Epoch 32/100\n",
            "9/9 [==============================] - 0s 9ms/step - loss: 0.2593 - dept_output_loss: 0.0483 - attr_output_loss: 0.2110 - dept_output_accuracy: 0.9852 - attr_output_accuracy: 0.9262 - val_loss: 1.1662 - val_dept_output_loss: 0.7058 - val_attr_output_loss: 0.4603 - val_dept_output_accuracy: 0.8326 - val_attr_output_accuracy: 0.8281\n",
            "Epoch 33/100\n",
            "9/9 [==============================] - 0s 9ms/step - loss: 0.2447 - dept_output_loss: 0.0406 - attr_output_loss: 0.2041 - dept_output_accuracy: 0.9943 - attr_output_accuracy: 0.9228 - val_loss: 1.1450 - val_dept_output_loss: 0.6969 - val_attr_output_loss: 0.4480 - val_dept_output_accuracy: 0.8416 - val_attr_output_accuracy: 0.8190\n",
            "Epoch 34/100\n",
            "9/9 [==============================] - 0s 8ms/step - loss: 0.2321 - dept_output_loss: 0.0378 - attr_output_loss: 0.1943 - dept_output_accuracy: 0.9955 - attr_output_accuracy: 0.9353 - val_loss: 1.1937 - val_dept_output_loss: 0.7229 - val_attr_output_loss: 0.4708 - val_dept_output_accuracy: 0.8462 - val_attr_output_accuracy: 0.8371\n",
            "Epoch 35/100\n",
            "9/9 [==============================] - 0s 8ms/step - loss: 0.2212 - dept_output_loss: 0.0342 - attr_output_loss: 0.1870 - dept_output_accuracy: 0.9955 - attr_output_accuracy: 0.9364 - val_loss: 1.1974 - val_dept_output_loss: 0.7267 - val_attr_output_loss: 0.4707 - val_dept_output_accuracy: 0.8462 - val_attr_output_accuracy: 0.8235\n",
            "Epoch 36/100\n",
            "9/9 [==============================] - 0s 7ms/step - loss: 0.2093 - dept_output_loss: 0.0320 - attr_output_loss: 0.1773 - dept_output_accuracy: 0.9966 - attr_output_accuracy: 0.9444 - val_loss: 1.2224 - val_dept_output_loss: 0.7366 - val_attr_output_loss: 0.4858 - val_dept_output_accuracy: 0.8416 - val_attr_output_accuracy: 0.8235\n",
            "Epoch 37/100\n",
            "9/9 [==============================] - 0s 9ms/step - loss: 0.2018 - dept_output_loss: 0.0287 - attr_output_loss: 0.1731 - dept_output_accuracy: 0.9977 - attr_output_accuracy: 0.9467 - val_loss: 1.2690 - val_dept_output_loss: 0.7821 - val_attr_output_loss: 0.4869 - val_dept_output_accuracy: 0.8371 - val_attr_output_accuracy: 0.8235\n",
            "Epoch 38/100\n",
            "9/9 [==============================] - 0s 12ms/step - loss: 0.1918 - dept_output_loss: 0.0264 - attr_output_loss: 0.1654 - dept_output_accuracy: 0.9989 - attr_output_accuracy: 0.9432 - val_loss: 1.2715 - val_dept_output_loss: 0.7723 - val_attr_output_loss: 0.4992 - val_dept_output_accuracy: 0.8371 - val_attr_output_accuracy: 0.8326\n",
            "Epoch 39/100\n",
            "9/9 [==============================] - 0s 11ms/step - loss: 0.1795 - dept_output_loss: 0.0241 - attr_output_loss: 0.1554 - dept_output_accuracy: 0.9989 - attr_output_accuracy: 0.9512 - val_loss: 1.2852 - val_dept_output_loss: 0.7811 - val_attr_output_loss: 0.5041 - val_dept_output_accuracy: 0.8416 - val_attr_output_accuracy: 0.8145\n",
            "Epoch 40/100\n",
            "9/9 [==============================] - 0s 9ms/step - loss: 0.1701 - dept_output_loss: 0.0224 - attr_output_loss: 0.1476 - dept_output_accuracy: 1.0000 - attr_output_accuracy: 0.9614 - val_loss: 1.3393 - val_dept_output_loss: 0.7990 - val_attr_output_loss: 0.5403 - val_dept_output_accuracy: 0.8462 - val_attr_output_accuracy: 0.8235\n",
            "Epoch 41/100\n",
            "9/9 [==============================] - 0s 8ms/step - loss: 0.1657 - dept_output_loss: 0.0208 - attr_output_loss: 0.1450 - dept_output_accuracy: 1.0000 - attr_output_accuracy: 0.9535 - val_loss: 1.3377 - val_dept_output_loss: 0.8146 - val_attr_output_loss: 0.5231 - val_dept_output_accuracy: 0.8371 - val_attr_output_accuracy: 0.8145\n",
            "Epoch 42/100\n",
            "9/9 [==============================] - 0s 8ms/step - loss: 0.1587 - dept_output_loss: 0.0192 - attr_output_loss: 0.1395 - dept_output_accuracy: 1.0000 - attr_output_accuracy: 0.9591 - val_loss: 1.3744 - val_dept_output_loss: 0.8247 - val_attr_output_loss: 0.5497 - val_dept_output_accuracy: 0.8416 - val_attr_output_accuracy: 0.8235\n",
            "Epoch 43/100\n",
            "9/9 [==============================] - 0s 8ms/step - loss: 0.1471 - dept_output_loss: 0.0175 - attr_output_loss: 0.1296 - dept_output_accuracy: 1.0000 - attr_output_accuracy: 0.9648 - val_loss: 1.4008 - val_dept_output_loss: 0.8446 - val_attr_output_loss: 0.5562 - val_dept_output_accuracy: 0.8462 - val_attr_output_accuracy: 0.8235\n",
            "Epoch 44/100\n",
            "9/9 [==============================] - 0s 7ms/step - loss: 0.1376 - dept_output_loss: 0.0167 - attr_output_loss: 0.1210 - dept_output_accuracy: 1.0000 - attr_output_accuracy: 0.9648 - val_loss: 1.4125 - val_dept_output_loss: 0.8607 - val_attr_output_loss: 0.5518 - val_dept_output_accuracy: 0.8371 - val_attr_output_accuracy: 0.8190\n",
            "Epoch 45/100\n",
            "9/9 [==============================] - 0s 8ms/step - loss: 0.1335 - dept_output_loss: 0.0155 - attr_output_loss: 0.1180 - dept_output_accuracy: 1.0000 - attr_output_accuracy: 0.9671 - val_loss: 1.4206 - val_dept_output_loss: 0.8639 - val_attr_output_loss: 0.5567 - val_dept_output_accuracy: 0.8462 - val_attr_output_accuracy: 0.8145\n",
            "Epoch 46/100\n",
            "9/9 [==============================] - 0s 8ms/step - loss: 0.1305 - dept_output_loss: 0.0144 - attr_output_loss: 0.1161 - dept_output_accuracy: 1.0000 - attr_output_accuracy: 0.9637 - val_loss: 1.4630 - val_dept_output_loss: 0.8769 - val_attr_output_loss: 0.5860 - val_dept_output_accuracy: 0.8416 - val_attr_output_accuracy: 0.8145\n",
            "Epoch 47/100\n",
            "9/9 [==============================] - 0s 8ms/step - loss: 0.1179 - dept_output_loss: 0.0134 - attr_output_loss: 0.1045 - dept_output_accuracy: 1.0000 - attr_output_accuracy: 0.9750 - val_loss: 1.4862 - val_dept_output_loss: 0.8969 - val_attr_output_loss: 0.5893 - val_dept_output_accuracy: 0.8371 - val_attr_output_accuracy: 0.8235\n",
            "Epoch 48/100\n",
            "9/9 [==============================] - 0s 8ms/step - loss: 0.1077 - dept_output_loss: 0.0126 - attr_output_loss: 0.0950 - dept_output_accuracy: 1.0000 - attr_output_accuracy: 0.9773 - val_loss: 1.5353 - val_dept_output_loss: 0.9205 - val_attr_output_loss: 0.6148 - val_dept_output_accuracy: 0.8371 - val_attr_output_accuracy: 0.8235\n",
            "Epoch 49/100\n",
            "9/9 [==============================] - 0s 7ms/step - loss: 0.1035 - dept_output_loss: 0.0120 - attr_output_loss: 0.0915 - dept_output_accuracy: 1.0000 - attr_output_accuracy: 0.9728 - val_loss: 1.5520 - val_dept_output_loss: 0.9291 - val_attr_output_loss: 0.6229 - val_dept_output_accuracy: 0.8416 - val_attr_output_accuracy: 0.7964\n",
            "Epoch 50/100\n",
            "9/9 [==============================] - 0s 17ms/step - loss: 0.0983 - dept_output_loss: 0.0112 - attr_output_loss: 0.0871 - dept_output_accuracy: 1.0000 - attr_output_accuracy: 0.9784 - val_loss: 1.5606 - val_dept_output_loss: 0.9344 - val_attr_output_loss: 0.6262 - val_dept_output_accuracy: 0.8371 - val_attr_output_accuracy: 0.8190\n",
            "Epoch 51/100\n",
            "9/9 [==============================] - 0s 8ms/step - loss: 0.0878 - dept_output_loss: 0.0105 - attr_output_loss: 0.0773 - dept_output_accuracy: 1.0000 - attr_output_accuracy: 0.9841 - val_loss: 1.6079 - val_dept_output_loss: 0.9626 - val_attr_output_loss: 0.6452 - val_dept_output_accuracy: 0.8371 - val_attr_output_accuracy: 0.8100\n",
            "Epoch 52/100\n",
            "9/9 [==============================] - 0s 7ms/step - loss: 0.0832 - dept_output_loss: 0.0097 - attr_output_loss: 0.0735 - dept_output_accuracy: 1.0000 - attr_output_accuracy: 0.9830 - val_loss: 1.6288 - val_dept_output_loss: 0.9708 - val_attr_output_loss: 0.6580 - val_dept_output_accuracy: 0.8371 - val_attr_output_accuracy: 0.8100\n",
            "Epoch 53/100\n",
            "9/9 [==============================] - 0s 7ms/step - loss: 0.0757 - dept_output_loss: 0.0091 - attr_output_loss: 0.0666 - dept_output_accuracy: 1.0000 - attr_output_accuracy: 0.9852 - val_loss: 1.6608 - val_dept_output_loss: 0.9769 - val_attr_output_loss: 0.6839 - val_dept_output_accuracy: 0.8371 - val_attr_output_accuracy: 0.8235\n",
            "Epoch 54/100\n",
            "9/9 [==============================] - 0s 7ms/step - loss: 0.0717 - dept_output_loss: 0.0086 - attr_output_loss: 0.0632 - dept_output_accuracy: 1.0000 - attr_output_accuracy: 0.9875 - val_loss: 1.6814 - val_dept_output_loss: 0.9936 - val_attr_output_loss: 0.6879 - val_dept_output_accuracy: 0.8371 - val_attr_output_accuracy: 0.8100\n",
            "Epoch 55/100\n",
            "9/9 [==============================] - 0s 7ms/step - loss: 0.0645 - dept_output_loss: 0.0082 - attr_output_loss: 0.0563 - dept_output_accuracy: 1.0000 - attr_output_accuracy: 0.9909 - val_loss: 1.7275 - val_dept_output_loss: 1.0174 - val_attr_output_loss: 0.7101 - val_dept_output_accuracy: 0.8371 - val_attr_output_accuracy: 0.8100\n",
            "Epoch 56/100\n",
            "9/9 [==============================] - 0s 8ms/step - loss: 0.0606 - dept_output_loss: 0.0077 - attr_output_loss: 0.0529 - dept_output_accuracy: 1.0000 - attr_output_accuracy: 0.9909 - val_loss: 1.7470 - val_dept_output_loss: 1.0219 - val_attr_output_loss: 0.7251 - val_dept_output_accuracy: 0.8371 - val_attr_output_accuracy: 0.7919\n",
            "Epoch 57/100\n",
            "9/9 [==============================] - 0s 8ms/step - loss: 0.0579 - dept_output_loss: 0.0073 - attr_output_loss: 0.0505 - dept_output_accuracy: 1.0000 - attr_output_accuracy: 0.9898 - val_loss: 1.7753 - val_dept_output_loss: 1.0328 - val_attr_output_loss: 0.7425 - val_dept_output_accuracy: 0.8416 - val_attr_output_accuracy: 0.8190\n",
            "Epoch 58/100\n",
            "9/9 [==============================] - 0s 8ms/step - loss: 0.0521 - dept_output_loss: 0.0067 - attr_output_loss: 0.0454 - dept_output_accuracy: 1.0000 - attr_output_accuracy: 0.9932 - val_loss: 1.8034 - val_dept_output_loss: 1.0484 - val_attr_output_loss: 0.7549 - val_dept_output_accuracy: 0.8326 - val_attr_output_accuracy: 0.7964\n",
            "Epoch 59/100\n",
            "9/9 [==============================] - 0s 9ms/step - loss: 0.0473 - dept_output_loss: 0.0063 - attr_output_loss: 0.0410 - dept_output_accuracy: 1.0000 - attr_output_accuracy: 0.9943 - val_loss: 1.8471 - val_dept_output_loss: 1.0612 - val_attr_output_loss: 0.7858 - val_dept_output_accuracy: 0.8371 - val_attr_output_accuracy: 0.8009\n",
            "Epoch 60/100\n",
            "9/9 [==============================] - 0s 9ms/step - loss: 0.0453 - dept_output_loss: 0.0061 - attr_output_loss: 0.0392 - dept_output_accuracy: 1.0000 - attr_output_accuracy: 0.9955 - val_loss: 1.8689 - val_dept_output_loss: 1.0665 - val_attr_output_loss: 0.8024 - val_dept_output_accuracy: 0.8326 - val_attr_output_accuracy: 0.8054\n",
            "Epoch 61/100\n",
            "9/9 [==============================] - 0s 8ms/step - loss: 0.0428 - dept_output_loss: 0.0059 - attr_output_loss: 0.0369 - dept_output_accuracy: 1.0000 - attr_output_accuracy: 0.9955 - val_loss: 1.8983 - val_dept_output_loss: 1.0857 - val_attr_output_loss: 0.8126 - val_dept_output_accuracy: 0.8371 - val_attr_output_accuracy: 0.8009\n",
            "Epoch 62/100\n",
            "9/9 [==============================] - 0s 8ms/step - loss: 0.0390 - dept_output_loss: 0.0054 - attr_output_loss: 0.0336 - dept_output_accuracy: 1.0000 - attr_output_accuracy: 0.9966 - val_loss: 1.9116 - val_dept_output_loss: 1.0935 - val_attr_output_loss: 0.8181 - val_dept_output_accuracy: 0.8371 - val_attr_output_accuracy: 0.8009\n",
            "Epoch 63/100\n",
            "9/9 [==============================] - 0s 7ms/step - loss: 0.0355 - dept_output_loss: 0.0050 - attr_output_loss: 0.0305 - dept_output_accuracy: 1.0000 - attr_output_accuracy: 0.9966 - val_loss: 1.9438 - val_dept_output_loss: 1.1035 - val_attr_output_loss: 0.8403 - val_dept_output_accuracy: 0.8326 - val_attr_output_accuracy: 0.8100\n",
            "Epoch 64/100\n",
            "9/9 [==============================] - 0s 7ms/step - loss: 0.0341 - dept_output_loss: 0.0049 - attr_output_loss: 0.0292 - dept_output_accuracy: 1.0000 - attr_output_accuracy: 0.9966 - val_loss: 1.9783 - val_dept_output_loss: 1.1155 - val_attr_output_loss: 0.8628 - val_dept_output_accuracy: 0.8326 - val_attr_output_accuracy: 0.7964\n",
            "Epoch 65/100\n",
            "9/9 [==============================] - 0s 7ms/step - loss: 0.0326 - dept_output_loss: 0.0047 - attr_output_loss: 0.0279 - dept_output_accuracy: 1.0000 - attr_output_accuracy: 0.9977 - val_loss: 1.9988 - val_dept_output_loss: 1.1232 - val_attr_output_loss: 0.8756 - val_dept_output_accuracy: 0.8326 - val_attr_output_accuracy: 0.8190\n",
            "Epoch 66/100\n",
            "9/9 [==============================] - 0s 8ms/step - loss: 0.0296 - dept_output_loss: 0.0044 - attr_output_loss: 0.0253 - dept_output_accuracy: 1.0000 - attr_output_accuracy: 0.9966 - val_loss: 2.0211 - val_dept_output_loss: 1.1285 - val_attr_output_loss: 0.8926 - val_dept_output_accuracy: 0.8326 - val_attr_output_accuracy: 0.8054\n",
            "Epoch 67/100\n",
            "9/9 [==============================] - 0s 8ms/step - loss: 0.0275 - dept_output_loss: 0.0041 - attr_output_loss: 0.0234 - dept_output_accuracy: 1.0000 - attr_output_accuracy: 0.9977 - val_loss: 2.0358 - val_dept_output_loss: 1.1369 - val_attr_output_loss: 0.8989 - val_dept_output_accuracy: 0.8326 - val_attr_output_accuracy: 0.8009\n",
            "Epoch 68/100\n",
            "9/9 [==============================] - 0s 8ms/step - loss: 0.0256 - dept_output_loss: 0.0039 - attr_output_loss: 0.0217 - dept_output_accuracy: 1.0000 - attr_output_accuracy: 0.9977 - val_loss: 2.0944 - val_dept_output_loss: 1.1620 - val_attr_output_loss: 0.9324 - val_dept_output_accuracy: 0.8326 - val_attr_output_accuracy: 0.8054\n",
            "Epoch 69/100\n",
            "9/9 [==============================] - 0s 11ms/step - loss: 0.0240 - dept_output_loss: 0.0037 - attr_output_loss: 0.0203 - dept_output_accuracy: 1.0000 - attr_output_accuracy: 0.9966 - val_loss: 2.1100 - val_dept_output_loss: 1.1621 - val_attr_output_loss: 0.9478 - val_dept_output_accuracy: 0.8371 - val_attr_output_accuracy: 0.7919\n",
            "Epoch 70/100\n",
            "9/9 [==============================] - 0s 10ms/step - loss: 0.0227 - dept_output_loss: 0.0036 - attr_output_loss: 0.0191 - dept_output_accuracy: 1.0000 - attr_output_accuracy: 0.9977 - val_loss: 2.1416 - val_dept_output_loss: 1.1811 - val_attr_output_loss: 0.9605 - val_dept_output_accuracy: 0.8326 - val_attr_output_accuracy: 0.8054\n",
            "Epoch 71/100\n",
            "9/9 [==============================] - 0s 12ms/step - loss: 0.0206 - dept_output_loss: 0.0034 - attr_output_loss: 0.0172 - dept_output_accuracy: 1.0000 - attr_output_accuracy: 0.9977 - val_loss: 2.1687 - val_dept_output_loss: 1.1827 - val_attr_output_loss: 0.9859 - val_dept_output_accuracy: 0.8326 - val_attr_output_accuracy: 0.7919\n",
            "Epoch 72/100\n",
            "9/9 [==============================] - 0s 7ms/step - loss: 0.0198 - dept_output_loss: 0.0033 - attr_output_loss: 0.0165 - dept_output_accuracy: 1.0000 - attr_output_accuracy: 0.9977 - val_loss: 2.1875 - val_dept_output_loss: 1.1960 - val_attr_output_loss: 0.9916 - val_dept_output_accuracy: 0.8326 - val_attr_output_accuracy: 0.8009\n",
            "Epoch 73/100\n",
            "9/9 [==============================] - 0s 8ms/step - loss: 0.0173 - dept_output_loss: 0.0031 - attr_output_loss: 0.0142 - dept_output_accuracy: 1.0000 - attr_output_accuracy: 0.9977 - val_loss: 2.2317 - val_dept_output_loss: 1.2015 - val_attr_output_loss: 1.0302 - val_dept_output_accuracy: 0.8371 - val_attr_output_accuracy: 0.8009\n",
            "Epoch 74/100\n",
            "9/9 [==============================] - 0s 11ms/step - loss: 0.0159 - dept_output_loss: 0.0030 - attr_output_loss: 0.0129 - dept_output_accuracy: 1.0000 - attr_output_accuracy: 0.9989 - val_loss: 2.2433 - val_dept_output_loss: 1.2068 - val_attr_output_loss: 1.0364 - val_dept_output_accuracy: 0.8371 - val_attr_output_accuracy: 0.8054\n",
            "Epoch 75/100\n",
            "9/9 [==============================] - 0s 7ms/step - loss: 0.0147 - dept_output_loss: 0.0029 - attr_output_loss: 0.0118 - dept_output_accuracy: 1.0000 - attr_output_accuracy: 0.9977 - val_loss: 2.2833 - val_dept_output_loss: 1.2284 - val_attr_output_loss: 1.0550 - val_dept_output_accuracy: 0.8371 - val_attr_output_accuracy: 0.8009\n",
            "Epoch 76/100\n",
            "9/9 [==============================] - 0s 7ms/step - loss: 0.0129 - dept_output_loss: 0.0028 - attr_output_loss: 0.0101 - dept_output_accuracy: 1.0000 - attr_output_accuracy: 0.9989 - val_loss: 2.3034 - val_dept_output_loss: 1.2251 - val_attr_output_loss: 1.0783 - val_dept_output_accuracy: 0.8371 - val_attr_output_accuracy: 0.7964\n",
            "Epoch 77/100\n",
            "9/9 [==============================] - 0s 16ms/step - loss: 0.0121 - dept_output_loss: 0.0027 - attr_output_loss: 0.0095 - dept_output_accuracy: 1.0000 - attr_output_accuracy: 0.9989 - val_loss: 2.3249 - val_dept_output_loss: 1.2348 - val_attr_output_loss: 1.0901 - val_dept_output_accuracy: 0.8371 - val_attr_output_accuracy: 0.8054\n",
            "Epoch 78/100\n",
            "9/9 [==============================] - 0s 7ms/step - loss: 0.0114 - dept_output_loss: 0.0025 - attr_output_loss: 0.0089 - dept_output_accuracy: 1.0000 - attr_output_accuracy: 0.9989 - val_loss: 2.3592 - val_dept_output_loss: 1.2431 - val_attr_output_loss: 1.1161 - val_dept_output_accuracy: 0.8371 - val_attr_output_accuracy: 0.7919\n",
            "Epoch 79/100\n",
            "9/9 [==============================] - 0s 11ms/step - loss: 0.0108 - dept_output_loss: 0.0025 - attr_output_loss: 0.0084 - dept_output_accuracy: 1.0000 - attr_output_accuracy: 1.0000 - val_loss: 2.3797 - val_dept_output_loss: 1.2487 - val_attr_output_loss: 1.1310 - val_dept_output_accuracy: 0.8371 - val_attr_output_accuracy: 0.8054\n",
            "Epoch 80/100\n",
            "9/9 [==============================] - 0s 12ms/step - loss: 0.0099 - dept_output_loss: 0.0024 - attr_output_loss: 0.0075 - dept_output_accuracy: 1.0000 - attr_output_accuracy: 1.0000 - val_loss: 2.4133 - val_dept_output_loss: 1.2674 - val_attr_output_loss: 1.1459 - val_dept_output_accuracy: 0.8371 - val_attr_output_accuracy: 0.7964\n",
            "Epoch 81/100\n",
            "9/9 [==============================] - 0s 10ms/step - loss: 0.0090 - dept_output_loss: 0.0023 - attr_output_loss: 0.0067 - dept_output_accuracy: 1.0000 - attr_output_accuracy: 1.0000 - val_loss: 2.4225 - val_dept_output_loss: 1.2600 - val_attr_output_loss: 1.1625 - val_dept_output_accuracy: 0.8371 - val_attr_output_accuracy: 0.7964\n",
            "Epoch 82/100\n",
            "9/9 [==============================] - 0s 9ms/step - loss: 0.0083 - dept_output_loss: 0.0021 - attr_output_loss: 0.0062 - dept_output_accuracy: 1.0000 - attr_output_accuracy: 1.0000 - val_loss: 2.4690 - val_dept_output_loss: 1.2855 - val_attr_output_loss: 1.1835 - val_dept_output_accuracy: 0.8371 - val_attr_output_accuracy: 0.8009\n",
            "Epoch 83/100\n",
            "9/9 [==============================] - 0s 7ms/step - loss: 0.0082 - dept_output_loss: 0.0021 - attr_output_loss: 0.0061 - dept_output_accuracy: 1.0000 - attr_output_accuracy: 1.0000 - val_loss: 2.4814 - val_dept_output_loss: 1.2862 - val_attr_output_loss: 1.1953 - val_dept_output_accuracy: 0.8371 - val_attr_output_accuracy: 0.7919\n",
            "Epoch 84/100\n",
            "9/9 [==============================] - 0s 7ms/step - loss: 0.0081 - dept_output_loss: 0.0020 - attr_output_loss: 0.0061 - dept_output_accuracy: 1.0000 - attr_output_accuracy: 1.0000 - val_loss: 2.4781 - val_dept_output_loss: 1.2798 - val_attr_output_loss: 1.1983 - val_dept_output_accuracy: 0.8371 - val_attr_output_accuracy: 0.8009\n",
            "Epoch 85/100\n",
            "9/9 [==============================] - 0s 8ms/step - loss: 0.0079 - dept_output_loss: 0.0020 - attr_output_loss: 0.0059 - dept_output_accuracy: 1.0000 - attr_output_accuracy: 1.0000 - val_loss: 2.5048 - val_dept_output_loss: 1.3003 - val_attr_output_loss: 1.2046 - val_dept_output_accuracy: 0.8371 - val_attr_output_accuracy: 0.7919\n",
            "Epoch 86/100\n",
            "9/9 [==============================] - 0s 7ms/step - loss: 0.0065 - dept_output_loss: 0.0019 - attr_output_loss: 0.0046 - dept_output_accuracy: 1.0000 - attr_output_accuracy: 1.0000 - val_loss: 2.5249 - val_dept_output_loss: 1.3052 - val_attr_output_loss: 1.2197 - val_dept_output_accuracy: 0.8326 - val_attr_output_accuracy: 0.8054\n",
            "Epoch 87/100\n",
            "9/9 [==============================] - 0s 8ms/step - loss: 0.0058 - dept_output_loss: 0.0018 - attr_output_loss: 0.0041 - dept_output_accuracy: 1.0000 - attr_output_accuracy: 1.0000 - val_loss: 2.5526 - val_dept_output_loss: 1.3025 - val_attr_output_loss: 1.2501 - val_dept_output_accuracy: 0.8371 - val_attr_output_accuracy: 0.7964\n",
            "Epoch 88/100\n",
            "9/9 [==============================] - 0s 8ms/step - loss: 0.0055 - dept_output_loss: 0.0017 - attr_output_loss: 0.0038 - dept_output_accuracy: 1.0000 - attr_output_accuracy: 1.0000 - val_loss: 2.5878 - val_dept_output_loss: 1.3184 - val_attr_output_loss: 1.2695 - val_dept_output_accuracy: 0.8371 - val_attr_output_accuracy: 0.7964\n",
            "Epoch 89/100\n",
            "9/9 [==============================] - 0s 9ms/step - loss: 0.0052 - dept_output_loss: 0.0016 - attr_output_loss: 0.0035 - dept_output_accuracy: 1.0000 - attr_output_accuracy: 1.0000 - val_loss: 2.5959 - val_dept_output_loss: 1.3294 - val_attr_output_loss: 1.2664 - val_dept_output_accuracy: 0.8326 - val_attr_output_accuracy: 0.7964\n",
            "Epoch 90/100\n",
            "9/9 [==============================] - 0s 7ms/step - loss: 0.0048 - dept_output_loss: 0.0016 - attr_output_loss: 0.0033 - dept_output_accuracy: 1.0000 - attr_output_accuracy: 1.0000 - val_loss: 2.6001 - val_dept_output_loss: 1.3271 - val_attr_output_loss: 1.2730 - val_dept_output_accuracy: 0.8371 - val_attr_output_accuracy: 0.8009\n",
            "Epoch 91/100\n",
            "9/9 [==============================] - 0s 7ms/step - loss: 0.0045 - dept_output_loss: 0.0015 - attr_output_loss: 0.0030 - dept_output_accuracy: 1.0000 - attr_output_accuracy: 1.0000 - val_loss: 2.6296 - val_dept_output_loss: 1.3333 - val_attr_output_loss: 1.2962 - val_dept_output_accuracy: 0.8371 - val_attr_output_accuracy: 0.7964\n",
            "Epoch 92/100\n",
            "9/9 [==============================] - 0s 7ms/step - loss: 0.0043 - dept_output_loss: 0.0014 - attr_output_loss: 0.0029 - dept_output_accuracy: 1.0000 - attr_output_accuracy: 1.0000 - val_loss: 2.6552 - val_dept_output_loss: 1.3425 - val_attr_output_loss: 1.3126 - val_dept_output_accuracy: 0.8371 - val_attr_output_accuracy: 0.7964\n",
            "Epoch 93/100\n",
            "9/9 [==============================] - 0s 7ms/step - loss: 0.0041 - dept_output_loss: 0.0014 - attr_output_loss: 0.0027 - dept_output_accuracy: 1.0000 - attr_output_accuracy: 1.0000 - val_loss: 2.6584 - val_dept_output_loss: 1.3433 - val_attr_output_loss: 1.3151 - val_dept_output_accuracy: 0.8371 - val_attr_output_accuracy: 0.7964\n",
            "Epoch 94/100\n",
            "9/9 [==============================] - 0s 7ms/step - loss: 0.0039 - dept_output_loss: 0.0013 - attr_output_loss: 0.0026 - dept_output_accuracy: 1.0000 - attr_output_accuracy: 1.0000 - val_loss: 2.6741 - val_dept_output_loss: 1.3541 - val_attr_output_loss: 1.3200 - val_dept_output_accuracy: 0.8371 - val_attr_output_accuracy: 0.7964\n",
            "Epoch 95/100\n",
            "9/9 [==============================] - 0s 7ms/step - loss: 0.0038 - dept_output_loss: 0.0013 - attr_output_loss: 0.0025 - dept_output_accuracy: 1.0000 - attr_output_accuracy: 1.0000 - val_loss: 2.6950 - val_dept_output_loss: 1.3549 - val_attr_output_loss: 1.3401 - val_dept_output_accuracy: 0.8371 - val_attr_output_accuracy: 0.7964\n",
            "Epoch 96/100\n",
            "9/9 [==============================] - 0s 16ms/step - loss: 0.0037 - dept_output_loss: 0.0013 - attr_output_loss: 0.0025 - dept_output_accuracy: 1.0000 - attr_output_accuracy: 1.0000 - val_loss: 2.7205 - val_dept_output_loss: 1.3694 - val_attr_output_loss: 1.3511 - val_dept_output_accuracy: 0.8326 - val_attr_output_accuracy: 0.7964\n",
            "Epoch 97/100\n",
            "9/9 [==============================] - 0s 8ms/step - loss: 0.0035 - dept_output_loss: 0.0012 - attr_output_loss: 0.0023 - dept_output_accuracy: 1.0000 - attr_output_accuracy: 1.0000 - val_loss: 2.7169 - val_dept_output_loss: 1.3617 - val_attr_output_loss: 1.3552 - val_dept_output_accuracy: 0.8371 - val_attr_output_accuracy: 0.7964\n",
            "Epoch 98/100\n",
            "9/9 [==============================] - 0s 9ms/step - loss: 0.0033 - dept_output_loss: 0.0012 - attr_output_loss: 0.0021 - dept_output_accuracy: 1.0000 - attr_output_accuracy: 1.0000 - val_loss: 2.7428 - val_dept_output_loss: 1.3782 - val_attr_output_loss: 1.3646 - val_dept_output_accuracy: 0.8371 - val_attr_output_accuracy: 0.7964\n",
            "Epoch 99/100\n",
            "9/9 [==============================] - 0s 9ms/step - loss: 0.0032 - dept_output_loss: 0.0011 - attr_output_loss: 0.0020 - dept_output_accuracy: 1.0000 - attr_output_accuracy: 1.0000 - val_loss: 2.7548 - val_dept_output_loss: 1.3807 - val_attr_output_loss: 1.3741 - val_dept_output_accuracy: 0.8371 - val_attr_output_accuracy: 0.7964\n",
            "Epoch 100/100\n",
            "9/9 [==============================] - 0s 8ms/step - loss: 0.0030 - dept_output_loss: 0.0011 - attr_output_loss: 0.0019 - dept_output_accuracy: 1.0000 - attr_output_accuracy: 1.0000 - val_loss: 2.7640 - val_dept_output_loss: 1.3837 - val_attr_output_loss: 1.3804 - val_dept_output_accuracy: 0.8371 - val_attr_output_accuracy: 0.7964\n"
          ]
        }
      ],
      "source": [
        "# Train the model\n",
        "history = nn_model.fit(X_train, {'dept_output': y_train_dep, 'attr_output': y_train_att},\n",
        "                        epochs=100, batch_size=100, verbose=1, validation_split=0.2)\n"
      ]
    },
    {
      "cell_type": "code",
      "execution_count": 22,
      "metadata": {
        "colab": {
          "base_uri": "https://localhost:8080/"
        },
        "id": "VsMoaQlgGc3U",
        "outputId": "1bd4e601-e964-4abc-ad83-aeecf6b696be"
      },
      "outputs": [
        {
          "name": "stdout",
          "output_type": "stream",
          "text": [
            "12/12 [==============================] - 0s 2ms/step - loss: 2.1314 - dept_output_loss: 0.9802 - attr_output_loss: 1.1512 - dept_output_accuracy: 0.8478 - attr_output_accuracy: 0.8098\n",
            "Loss: 2.13142728805542, Department Accuracy: 0.8478260636329651, Attrition Accuracy: 0.8097826242446899\n"
          ]
        }
      ],
      "source": [
        "# Evaluate the model with the testing data\n",
        "results = nn_model.evaluate(X_scaled_test, {'dept_output': y_test_dep, 'attr_output': y_test_att}, verbose=1)\n",
        "\n",
        "# Print the model loss and accuracy results\n",
        "print(f\"Loss: {results[0]}, Department Accuracy: {results[3]}, Attrition Accuracy: {results[4]}\")\n"
      ]
    },
    {
      "cell_type": "code",
      "execution_count": 23,
      "metadata": {
        "colab": {
          "base_uri": "https://localhost:8080/"
        },
        "id": "ZlCtlHi0Vt54",
        "outputId": "bc21ef3e-80c2-4b38-9c29-79515bc23dec"
      },
      "outputs": [
        {
          "name": "stdout",
          "output_type": "stream",
          "text": [
            "Department Accuracy: 0.8478260636329651\n",
            "Attrition Accuracy: 0.8097826242446899\n"
          ]
        }
      ],
      "source": [
        "# Print the accuracy for both department and attrition\n",
        "print(f\"Department Accuracy: {results[3]}\")\n",
        "print(f\"Attrition Accuracy: {results[4]}\")"
      ]
    },
    {
      "cell_type": "markdown",
      "metadata": {
        "id": "eGSyfsZfWOQM"
      },
      "source": [
        "# Summary\n",
        "\n",
        "In the provided space below, briefly answer the following questions.\n",
        "\n",
        "1. Is accuracy the best metric to use on this data? Why or why not?\n",
        "\n",
        "2. What activation functions did you choose for your output layers, and why?\n",
        "\n",
        "3. Can you name a few ways that this model might be improved?"
      ]
    },
    {
      "cell_type": "markdown",
      "metadata": {
        "id": "pi9SLpFnWvbF"
      },
      "source": [
        "YOUR ANSWERS HERE\n",
        "\n",
        "1. \n",
        "2. \n",
        "3. "
      ]
    },
    {
      "cell_type": "markdown",
      "metadata": {},
      "source": []
    }
  ],
  "metadata": {
    "colab": {
      "provenance": []
    },
    "kernelspec": {
      "display_name": "Python 3",
      "language": "python",
      "name": "python3"
    },
    "language_info": {
      "codemirror_mode": {
        "name": "ipython",
        "version": 3
      },
      "file_extension": ".py",
      "mimetype": "text/x-python",
      "name": "python",
      "nbconvert_exporter": "python",
      "pygments_lexer": "ipython3",
      "version": "3.10.13"
    },
    "vscode": {
      "interpreter": {
        "hash": "31f2aee4e71d21fbe5cf8b01ff0e069b9275f58929596ceb00d14d90e3e16cd6"
      }
    }
  },
  "nbformat": 4,
  "nbformat_minor": 0
}
