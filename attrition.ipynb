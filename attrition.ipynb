{
  "cells": [
    {
      "cell_type": "markdown",
      "metadata": {
        "id": "alIIEHibGc3M"
      },
      "source": [
        "## Part 1: Preprocessing"
      ]
    },
    {
      "cell_type": "code",
      "execution_count": 1,
      "metadata": {
        "colab": {
          "base_uri": "https://localhost:8080/",
          "height": 325
        },
        "id": "6eDUJ4NtGc3P",
        "outputId": "2480098c-135c-4cbf-9552-018494ee8ff5"
      },
      "outputs": [
        {
          "data": {
            "text/html": [
              "<div>\n",
              "<style scoped>\n",
              "    .dataframe tbody tr th:only-of-type {\n",
              "        vertical-align: middle;\n",
              "    }\n",
              "\n",
              "    .dataframe tbody tr th {\n",
              "        vertical-align: top;\n",
              "    }\n",
              "\n",
              "    .dataframe thead th {\n",
              "        text-align: right;\n",
              "    }\n",
              "</style>\n",
              "<table border=\"1\" class=\"dataframe\">\n",
              "  <thead>\n",
              "    <tr style=\"text-align: right;\">\n",
              "      <th></th>\n",
              "      <th>Age</th>\n",
              "      <th>Attrition</th>\n",
              "      <th>BusinessTravel</th>\n",
              "      <th>Department</th>\n",
              "      <th>DistanceFromHome</th>\n",
              "      <th>Education</th>\n",
              "      <th>EducationField</th>\n",
              "      <th>EnvironmentSatisfaction</th>\n",
              "      <th>HourlyRate</th>\n",
              "      <th>JobInvolvement</th>\n",
              "      <th>...</th>\n",
              "      <th>PerformanceRating</th>\n",
              "      <th>RelationshipSatisfaction</th>\n",
              "      <th>StockOptionLevel</th>\n",
              "      <th>TotalWorkingYears</th>\n",
              "      <th>TrainingTimesLastYear</th>\n",
              "      <th>WorkLifeBalance</th>\n",
              "      <th>YearsAtCompany</th>\n",
              "      <th>YearsInCurrentRole</th>\n",
              "      <th>YearsSinceLastPromotion</th>\n",
              "      <th>YearsWithCurrManager</th>\n",
              "    </tr>\n",
              "  </thead>\n",
              "  <tbody>\n",
              "    <tr>\n",
              "      <th>0</th>\n",
              "      <td>41</td>\n",
              "      <td>Yes</td>\n",
              "      <td>Travel_Rarely</td>\n",
              "      <td>Sales</td>\n",
              "      <td>1</td>\n",
              "      <td>2</td>\n",
              "      <td>Life Sciences</td>\n",
              "      <td>2</td>\n",
              "      <td>94</td>\n",
              "      <td>3</td>\n",
              "      <td>...</td>\n",
              "      <td>3</td>\n",
              "      <td>1</td>\n",
              "      <td>0</td>\n",
              "      <td>8</td>\n",
              "      <td>0</td>\n",
              "      <td>1</td>\n",
              "      <td>6</td>\n",
              "      <td>4</td>\n",
              "      <td>0</td>\n",
              "      <td>5</td>\n",
              "    </tr>\n",
              "    <tr>\n",
              "      <th>1</th>\n",
              "      <td>49</td>\n",
              "      <td>No</td>\n",
              "      <td>Travel_Frequently</td>\n",
              "      <td>Research &amp; Development</td>\n",
              "      <td>8</td>\n",
              "      <td>1</td>\n",
              "      <td>Life Sciences</td>\n",
              "      <td>3</td>\n",
              "      <td>61</td>\n",
              "      <td>2</td>\n",
              "      <td>...</td>\n",
              "      <td>4</td>\n",
              "      <td>4</td>\n",
              "      <td>1</td>\n",
              "      <td>10</td>\n",
              "      <td>3</td>\n",
              "      <td>3</td>\n",
              "      <td>10</td>\n",
              "      <td>7</td>\n",
              "      <td>1</td>\n",
              "      <td>7</td>\n",
              "    </tr>\n",
              "    <tr>\n",
              "      <th>2</th>\n",
              "      <td>37</td>\n",
              "      <td>Yes</td>\n",
              "      <td>Travel_Rarely</td>\n",
              "      <td>Research &amp; Development</td>\n",
              "      <td>2</td>\n",
              "      <td>2</td>\n",
              "      <td>Other</td>\n",
              "      <td>4</td>\n",
              "      <td>92</td>\n",
              "      <td>2</td>\n",
              "      <td>...</td>\n",
              "      <td>3</td>\n",
              "      <td>2</td>\n",
              "      <td>0</td>\n",
              "      <td>7</td>\n",
              "      <td>3</td>\n",
              "      <td>3</td>\n",
              "      <td>0</td>\n",
              "      <td>0</td>\n",
              "      <td>0</td>\n",
              "      <td>0</td>\n",
              "    </tr>\n",
              "    <tr>\n",
              "      <th>3</th>\n",
              "      <td>33</td>\n",
              "      <td>No</td>\n",
              "      <td>Travel_Frequently</td>\n",
              "      <td>Research &amp; Development</td>\n",
              "      <td>3</td>\n",
              "      <td>4</td>\n",
              "      <td>Life Sciences</td>\n",
              "      <td>4</td>\n",
              "      <td>56</td>\n",
              "      <td>3</td>\n",
              "      <td>...</td>\n",
              "      <td>3</td>\n",
              "      <td>3</td>\n",
              "      <td>0</td>\n",
              "      <td>8</td>\n",
              "      <td>3</td>\n",
              "      <td>3</td>\n",
              "      <td>8</td>\n",
              "      <td>7</td>\n",
              "      <td>3</td>\n",
              "      <td>0</td>\n",
              "    </tr>\n",
              "    <tr>\n",
              "      <th>4</th>\n",
              "      <td>27</td>\n",
              "      <td>No</td>\n",
              "      <td>Travel_Rarely</td>\n",
              "      <td>Research &amp; Development</td>\n",
              "      <td>2</td>\n",
              "      <td>1</td>\n",
              "      <td>Medical</td>\n",
              "      <td>1</td>\n",
              "      <td>40</td>\n",
              "      <td>3</td>\n",
              "      <td>...</td>\n",
              "      <td>3</td>\n",
              "      <td>4</td>\n",
              "      <td>1</td>\n",
              "      <td>6</td>\n",
              "      <td>3</td>\n",
              "      <td>3</td>\n",
              "      <td>2</td>\n",
              "      <td>2</td>\n",
              "      <td>2</td>\n",
              "      <td>2</td>\n",
              "    </tr>\n",
              "  </tbody>\n",
              "</table>\n",
              "<p>5 rows × 27 columns</p>\n",
              "</div>"
            ],
            "text/plain": [
              "   Age Attrition     BusinessTravel              Department  DistanceFromHome  \\\n",
              "0   41       Yes      Travel_Rarely                   Sales                 1   \n",
              "1   49        No  Travel_Frequently  Research & Development                 8   \n",
              "2   37       Yes      Travel_Rarely  Research & Development                 2   \n",
              "3   33        No  Travel_Frequently  Research & Development                 3   \n",
              "4   27        No      Travel_Rarely  Research & Development                 2   \n",
              "\n",
              "   Education EducationField  EnvironmentSatisfaction  HourlyRate  \\\n",
              "0          2  Life Sciences                        2          94   \n",
              "1          1  Life Sciences                        3          61   \n",
              "2          2          Other                        4          92   \n",
              "3          4  Life Sciences                        4          56   \n",
              "4          1        Medical                        1          40   \n",
              "\n",
              "   JobInvolvement  ...  PerformanceRating RelationshipSatisfaction  \\\n",
              "0               3  ...                  3                        1   \n",
              "1               2  ...                  4                        4   \n",
              "2               2  ...                  3                        2   \n",
              "3               3  ...                  3                        3   \n",
              "4               3  ...                  3                        4   \n",
              "\n",
              "   StockOptionLevel TotalWorkingYears  TrainingTimesLastYear WorkLifeBalance  \\\n",
              "0                 0                 8                      0               1   \n",
              "1                 1                10                      3               3   \n",
              "2                 0                 7                      3               3   \n",
              "3                 0                 8                      3               3   \n",
              "4                 1                 6                      3               3   \n",
              "\n",
              "   YearsAtCompany  YearsInCurrentRole  YearsSinceLastPromotion  \\\n",
              "0               6                   4                        0   \n",
              "1              10                   7                        1   \n",
              "2               0                   0                        0   \n",
              "3               8                   7                        3   \n",
              "4               2                   2                        2   \n",
              "\n",
              "   YearsWithCurrManager  \n",
              "0                     5  \n",
              "1                     7  \n",
              "2                     0  \n",
              "3                     0  \n",
              "4                     2  \n",
              "\n",
              "[5 rows x 27 columns]"
            ]
          },
          "execution_count": 1,
          "metadata": {},
          "output_type": "execute_result"
        }
      ],
      "source": [
        "# Import our dependencies\n",
        "from sklearn.model_selection import train_test_split\n",
        "from sklearn.preprocessing import StandardScaler\n",
        "import pandas as pd\n",
        "import numpy as np\n",
        "from tensorflow.keras.models import Model\n",
        "from tensorflow.keras import layers\n",
        "\n",
        "#  Import and read the attrition data\n",
        "attrition_df = pd.read_csv('https://static.bc-edx.com/ai/ail-v-1-0/m19/lms/datasets/attrition.csv')\n",
        "attrition_df.head()"
      ]
    },
    {
      "cell_type": "code",
      "execution_count": 2,
      "metadata": {
        "colab": {
          "base_uri": "https://localhost:8080/"
        },
        "id": "g22aQSY4Gc3Q",
        "outputId": "1f5c13c1-b981-4e40-a7ed-dd3fe6f1b81e"
      },
      "outputs": [
        {
          "data": {
            "text/plain": [
              "Age                         43\n",
              "Attrition                    2\n",
              "BusinessTravel               3\n",
              "Department                   3\n",
              "DistanceFromHome            29\n",
              "Education                    5\n",
              "EducationField               6\n",
              "EnvironmentSatisfaction      4\n",
              "HourlyRate                  71\n",
              "JobInvolvement               4\n",
              "JobLevel                     5\n",
              "JobRole                      9\n",
              "JobSatisfaction              4\n",
              "MaritalStatus                3\n",
              "NumCompaniesWorked          10\n",
              "OverTime                     2\n",
              "PercentSalaryHike           15\n",
              "PerformanceRating            2\n",
              "RelationshipSatisfaction     4\n",
              "StockOptionLevel             4\n",
              "TotalWorkingYears           40\n",
              "TrainingTimesLastYear        7\n",
              "WorkLifeBalance              4\n",
              "YearsAtCompany              37\n",
              "YearsInCurrentRole          19\n",
              "YearsSinceLastPromotion     16\n",
              "YearsWithCurrManager        18\n",
              "dtype: int64"
            ]
          },
          "execution_count": 2,
          "metadata": {},
          "output_type": "execute_result"
        }
      ],
      "source": [
        "# Determine the number of unique values in each column.\n",
        "attrition_df.nunique()"
      ]
    },
    {
      "cell_type": "code",
      "execution_count": 3,
      "metadata": {
        "id": "50vMgBEnJbfM"
      },
      "outputs": [],
      "source": [
        "# Create y_df with the Attrition and Department columns\n",
        "y_df = attrition_df[['Attrition', 'Department']]\n"
      ]
    },
    {
      "cell_type": "code",
      "execution_count": 4,
      "metadata": {
        "colab": {
          "base_uri": "https://localhost:8080/"
        },
        "id": "Virka0zLGc3R",
        "outputId": "dd5aee3a-9458-4ba6-e857-1b234de40915"
      },
      "outputs": [
        {
          "data": {
            "text/plain": [
              "Age                         int64\n",
              "BusinessTravel             object\n",
              "DistanceFromHome            int64\n",
              "EnvironmentSatisfaction     int64\n",
              "HourlyRate                  int64\n",
              "JobInvolvement              int64\n",
              "JobLevel                    int64\n",
              "JobRole                    object\n",
              "JobSatisfaction             int64\n",
              "OverTime                   object\n",
              "PercentSalaryHike           int64\n",
              "PerformanceRating           int64\n",
              "StockOptionLevel            int64\n",
              "TotalWorkingYears           int64\n",
              "TrainingTimesLastYear       int64\n",
              "WorkLifeBalance             int64\n",
              "YearsAtCompany              int64\n",
              "YearsInCurrentRole          int64\n",
              "YearsSinceLastPromotion     int64\n",
              "YearsWithCurrManager        int64\n",
              "dtype: object"
            ]
          },
          "execution_count": 4,
          "metadata": {},
          "output_type": "execute_result"
        }
      ],
      "source": [
        "# Create a list of at least 10 column names to use as X data\n",
        "selected_columns = attrition_df.drop(columns=['Attrition', 'Department']).columns\n",
        "                    \n",
        "# Create X_df using your selected columns\n",
        "X_df = attrition_df[selected_columns].drop(columns=[\n",
        "    'Education', 'EducationField', 'MaritalStatus', 'NumCompaniesWorked',\n",
        "    'RelationshipSatisfaction']) # removing fields the company doesn't have control over\n",
        "\n",
        "# Show the data types for X_df\n",
        "X_df.dtypes\n"
      ]
    },
    {
      "cell_type": "code",
      "execution_count": 5,
      "metadata": {
        "id": "KaJfdOGUMHMR"
      },
      "outputs": [],
      "source": [
        "# Split the data into training and testing sets\n",
        "from sklearn.model_selection import train_test_split\n",
        "\n",
        "X_train, X_test, y_train, y_test = train_test_split(X_df, y_df)\n"
      ]
    },
    {
      "cell_type": "code",
      "execution_count": 6,
      "metadata": {},
      "outputs": [
        {
          "data": {
            "text/plain": [
              "Travel_Rarely        783\n",
              "Travel_Frequently    212\n",
              "Non-Travel           107\n",
              "Name: BusinessTravel, dtype: int64"
            ]
          },
          "execution_count": 6,
          "metadata": {},
          "output_type": "execute_result"
        }
      ],
      "source": [
        "X_train['BusinessTravel'].value_counts()"
      ]
    },
    {
      "cell_type": "code",
      "execution_count": 7,
      "metadata": {},
      "outputs": [
        {
          "data": {
            "text/html": [
              "<div>\n",
              "<style scoped>\n",
              "    .dataframe tbody tr th:only-of-type {\n",
              "        vertical-align: middle;\n",
              "    }\n",
              "\n",
              "    .dataframe tbody tr th {\n",
              "        vertical-align: top;\n",
              "    }\n",
              "\n",
              "    .dataframe thead th {\n",
              "        text-align: right;\n",
              "    }\n",
              "</style>\n",
              "<table border=\"1\" class=\"dataframe\">\n",
              "  <thead>\n",
              "    <tr style=\"text-align: right;\">\n",
              "      <th></th>\n",
              "      <th>Age</th>\n",
              "      <th>DistanceFromHome</th>\n",
              "      <th>EnvironmentSatisfaction</th>\n",
              "      <th>HourlyRate</th>\n",
              "      <th>JobInvolvement</th>\n",
              "      <th>JobLevel</th>\n",
              "      <th>JobRole</th>\n",
              "      <th>JobSatisfaction</th>\n",
              "      <th>OverTime</th>\n",
              "      <th>PercentSalaryHike</th>\n",
              "      <th>...</th>\n",
              "      <th>TotalWorkingYears</th>\n",
              "      <th>TrainingTimesLastYear</th>\n",
              "      <th>WorkLifeBalance</th>\n",
              "      <th>YearsAtCompany</th>\n",
              "      <th>YearsInCurrentRole</th>\n",
              "      <th>YearsSinceLastPromotion</th>\n",
              "      <th>YearsWithCurrManager</th>\n",
              "      <th>BusinessTravel_Non-Travel</th>\n",
              "      <th>BusinessTravel_Travel_Frequently</th>\n",
              "      <th>BusinessTravel_Travel_Rarely</th>\n",
              "    </tr>\n",
              "  </thead>\n",
              "  <tbody>\n",
              "    <tr>\n",
              "      <th>385</th>\n",
              "      <td>30</td>\n",
              "      <td>4</td>\n",
              "      <td>3</td>\n",
              "      <td>40</td>\n",
              "      <td>3</td>\n",
              "      <td>1</td>\n",
              "      <td>Research Scientist</td>\n",
              "      <td>4</td>\n",
              "      <td>Yes</td>\n",
              "      <td>23</td>\n",
              "      <td>...</td>\n",
              "      <td>3</td>\n",
              "      <td>4</td>\n",
              "      <td>3</td>\n",
              "      <td>1</td>\n",
              "      <td>0</td>\n",
              "      <td>0</td>\n",
              "      <td>0</td>\n",
              "      <td>0.0</td>\n",
              "      <td>1.0</td>\n",
              "      <td>0.0</td>\n",
              "    </tr>\n",
              "    <tr>\n",
              "      <th>393</th>\n",
              "      <td>34</td>\n",
              "      <td>4</td>\n",
              "      <td>3</td>\n",
              "      <td>72</td>\n",
              "      <td>3</td>\n",
              "      <td>2</td>\n",
              "      <td>Sales Executive</td>\n",
              "      <td>3</td>\n",
              "      <td>No</td>\n",
              "      <td>15</td>\n",
              "      <td>...</td>\n",
              "      <td>6</td>\n",
              "      <td>3</td>\n",
              "      <td>3</td>\n",
              "      <td>3</td>\n",
              "      <td>2</td>\n",
              "      <td>1</td>\n",
              "      <td>2</td>\n",
              "      <td>1.0</td>\n",
              "      <td>0.0</td>\n",
              "      <td>0.0</td>\n",
              "    </tr>\n",
              "  </tbody>\n",
              "</table>\n",
              "<p>2 rows × 22 columns</p>\n",
              "</div>"
            ],
            "text/plain": [
              "     Age  DistanceFromHome  EnvironmentSatisfaction  HourlyRate  \\\n",
              "385   30                 4                        3          40   \n",
              "393   34                 4                        3          72   \n",
              "\n",
              "     JobInvolvement  JobLevel             JobRole  JobSatisfaction OverTime  \\\n",
              "385               3         1  Research Scientist                4      Yes   \n",
              "393               3         2     Sales Executive                3       No   \n",
              "\n",
              "     PercentSalaryHike  ...  TotalWorkingYears  TrainingTimesLastYear  \\\n",
              "385                 23  ...                  3                      4   \n",
              "393                 15  ...                  6                      3   \n",
              "\n",
              "     WorkLifeBalance  YearsAtCompany  YearsInCurrentRole  \\\n",
              "385                3               1                   0   \n",
              "393                3               3                   2   \n",
              "\n",
              "     YearsSinceLastPromotion  YearsWithCurrManager  BusinessTravel_Non-Travel  \\\n",
              "385                        0                     0                        0.0   \n",
              "393                        1                     2                        1.0   \n",
              "\n",
              "     BusinessTravel_Travel_Frequently  BusinessTravel_Travel_Rarely  \n",
              "385                               1.0                           0.0  \n",
              "393                               0.0                           0.0  \n",
              "\n",
              "[2 rows x 22 columns]"
            ]
          },
          "execution_count": 7,
          "metadata": {},
          "output_type": "execute_result"
        }
      ],
      "source": [
        "# one-hot encode the BusinessTravel column\n",
        "from sklearn.preprocessing import OneHotEncoder\n",
        "ohe = OneHotEncoder(handle_unknown='ignore', sparse_output=False)\n",
        "\n",
        "bt_ohe = ohe.fit_transform(X_train[['BusinessTravel']])\n",
        "test_bt_ohe = ohe.transform(X_test[['BusinessTravel']])\n",
        "\n",
        "X_train[ohe.get_feature_names_out()] = bt_ohe\n",
        "X_test[ohe.get_feature_names_out()] = test_bt_ohe\n",
        "\n",
        "X_train = X_train.drop(columns=['BusinessTravel'])\n",
        "X_test = X_test.drop(columns=['BusinessTravel'])\n",
        "\n",
        "X_train.head(2)"
      ]
    },
    {
      "cell_type": "code",
      "execution_count": 8,
      "metadata": {},
      "outputs": [
        {
          "data": {
            "text/plain": [
              "Sales Executive              258\n",
              "Research Scientist           221\n",
              "Laboratory Technician        192\n",
              "Manufacturing Director       115\n",
              "Healthcare Representative     87\n",
              "Manager                       67\n",
              "Research Director             64\n",
              "Sales Representative          60\n",
              "Human Resources               38\n",
              "Name: JobRole, dtype: int64"
            ]
          },
          "execution_count": 8,
          "metadata": {},
          "output_type": "execute_result"
        }
      ],
      "source": [
        "X_train['JobRole'].value_counts()"
      ]
    },
    {
      "cell_type": "code",
      "execution_count": 9,
      "metadata": {},
      "outputs": [],
      "source": [
        "# label encode the JobRole column\n",
        "from sklearn.preprocessing import LabelEncoder\n",
        "\n",
        "label_encoder = LabelEncoder().fit(X_train['JobRole'])\n",
        "X_train['JobRole'] = label_encoder.transform(X_train['JobRole'])\n",
        "X_test['JobRole'] = label_encoder.transform(X_test['JobRole'])"
      ]
    },
    {
      "cell_type": "code",
      "execution_count": 10,
      "metadata": {},
      "outputs": [
        {
          "data": {
            "text/plain": [
              "7    258\n",
              "6    221\n",
              "2    192\n",
              "4    115\n",
              "0     87\n",
              "3     67\n",
              "5     64\n",
              "8     60\n",
              "1     38\n",
              "Name: JobRole, dtype: int64"
            ]
          },
          "execution_count": 10,
          "metadata": {},
          "output_type": "execute_result"
        }
      ],
      "source": [
        "X_train['JobRole'].value_counts()"
      ]
    },
    {
      "cell_type": "code",
      "execution_count": 11,
      "metadata": {},
      "outputs": [
        {
          "data": {
            "text/plain": [
              "No     792\n",
              "Yes    310\n",
              "Name: OverTime, dtype: int64"
            ]
          },
          "execution_count": 11,
          "metadata": {},
          "output_type": "execute_result"
        }
      ],
      "source": [
        "X_train['OverTime'].value_counts()"
      ]
    },
    {
      "cell_type": "code",
      "execution_count": 12,
      "metadata": {},
      "outputs": [],
      "source": [
        "X_train['OverTime'] = X_train['OverTime'].apply(lambda x: 1 if x == 'Yes' else 0)\n",
        "X_test['OverTime'] = X_test['OverTime'].apply(lambda x: 1 if x == 'Yes' else 0)"
      ]
    },
    {
      "cell_type": "code",
      "execution_count": 13,
      "metadata": {
        "colab": {
          "base_uri": "https://localhost:8080/"
        },
        "id": "NYubUJqiLCSp",
        "outputId": "53f31721-571c-4c94-d13e-25a715749593"
      },
      "outputs": [],
      "source": [
        "# Convert your X data to numeric data types however you see fit\n",
        "# Add new code cells as necessary\n",
        "\n",
        "# See above"
      ]
    },
    {
      "cell_type": "code",
      "execution_count": 14,
      "metadata": {
        "id": "EWA-aIA5Gc3T"
      },
      "outputs": [],
      "source": [
        "# Create a StandardScaler\n",
        "# Fit the StandardScaler to the training data\n",
        "from sklearn.preprocessing import StandardScaler\n",
        "scaler = StandardScaler().fit(X_train)\n",
        "\n",
        "# Scale the training and testing data\n",
        "X_train = scaler.transform(X_train)\n",
        "X_scaled_test = scaler.transform(X_test)\n"
      ]
    },
    {
      "cell_type": "code",
      "execution_count": 15,
      "metadata": {
        "colab": {
          "base_uri": "https://localhost:8080/"
        },
        "id": "-z0Mky8vQSz4",
        "outputId": "debefc85-c20b-48f5-f4d9-91eadd65d36a"
      },
      "outputs": [],
      "source": [
        "# Create a OneHotEncoder for the Department column\n",
        "ohe = OneHotEncoder(handle_unknown='ignore', sparse_output=False)\n",
        "\n",
        "# Fit the encoder to the training data\n",
        "dept_ohe = ohe.fit_transform(y_train[['Department']])\n",
        "test_dept_ohe = ohe.transform(y_test[['Department']])\n",
        "\n",
        "# Create two new variables by applying the encoder\n",
        "# to the training and testing data\n",
        "\n",
        "y_train_dep = pd.DataFrame(dept_ohe, columns=ohe.get_feature_names_out())\n",
        "y_test_dep = pd.DataFrame(test_dept_ohe, columns=ohe.get_feature_names_out())\n",
        "\n",
        "y_train = y_train.drop(columns=['Department'])\n",
        "y_test = y_test.drop(columns=['Department'])\n"
      ]
    },
    {
      "cell_type": "code",
      "execution_count": 16,
      "metadata": {
        "colab": {
          "base_uri": "https://localhost:8080/"
        },
        "id": "-G4DSpvFRrk4",
        "outputId": "9842e948-8a55-4b80-8fac-f96714e85589"
      },
      "outputs": [
        {
          "data": {
            "text/html": [
              "<div>\n",
              "<style scoped>\n",
              "    .dataframe tbody tr th:only-of-type {\n",
              "        vertical-align: middle;\n",
              "    }\n",
              "\n",
              "    .dataframe tbody tr th {\n",
              "        vertical-align: top;\n",
              "    }\n",
              "\n",
              "    .dataframe thead th {\n",
              "        text-align: right;\n",
              "    }\n",
              "</style>\n",
              "<table border=\"1\" class=\"dataframe\">\n",
              "  <thead>\n",
              "    <tr style=\"text-align: right;\">\n",
              "      <th></th>\n",
              "      <th>Attrition_No</th>\n",
              "      <th>Attrition_Yes</th>\n",
              "    </tr>\n",
              "  </thead>\n",
              "  <tbody>\n",
              "    <tr>\n",
              "      <th>0</th>\n",
              "      <td>0.0</td>\n",
              "      <td>1.0</td>\n",
              "    </tr>\n",
              "    <tr>\n",
              "      <th>1</th>\n",
              "      <td>1.0</td>\n",
              "      <td>0.0</td>\n",
              "    </tr>\n",
              "    <tr>\n",
              "      <th>2</th>\n",
              "      <td>0.0</td>\n",
              "      <td>1.0</td>\n",
              "    </tr>\n",
              "    <tr>\n",
              "      <th>3</th>\n",
              "      <td>1.0</td>\n",
              "      <td>0.0</td>\n",
              "    </tr>\n",
              "    <tr>\n",
              "      <th>4</th>\n",
              "      <td>0.0</td>\n",
              "      <td>1.0</td>\n",
              "    </tr>\n",
              "    <tr>\n",
              "      <th>...</th>\n",
              "      <td>...</td>\n",
              "      <td>...</td>\n",
              "    </tr>\n",
              "    <tr>\n",
              "      <th>1097</th>\n",
              "      <td>1.0</td>\n",
              "      <td>0.0</td>\n",
              "    </tr>\n",
              "    <tr>\n",
              "      <th>1098</th>\n",
              "      <td>1.0</td>\n",
              "      <td>0.0</td>\n",
              "    </tr>\n",
              "    <tr>\n",
              "      <th>1099</th>\n",
              "      <td>1.0</td>\n",
              "      <td>0.0</td>\n",
              "    </tr>\n",
              "    <tr>\n",
              "      <th>1100</th>\n",
              "      <td>0.0</td>\n",
              "      <td>1.0</td>\n",
              "    </tr>\n",
              "    <tr>\n",
              "      <th>1101</th>\n",
              "      <td>1.0</td>\n",
              "      <td>0.0</td>\n",
              "    </tr>\n",
              "  </tbody>\n",
              "</table>\n",
              "<p>1102 rows × 2 columns</p>\n",
              "</div>"
            ],
            "text/plain": [
              "      Attrition_No  Attrition_Yes\n",
              "0              0.0            1.0\n",
              "1              1.0            0.0\n",
              "2              0.0            1.0\n",
              "3              1.0            0.0\n",
              "4              0.0            1.0\n",
              "...            ...            ...\n",
              "1097           1.0            0.0\n",
              "1098           1.0            0.0\n",
              "1099           1.0            0.0\n",
              "1100           0.0            1.0\n",
              "1101           1.0            0.0\n",
              "\n",
              "[1102 rows x 2 columns]"
            ]
          },
          "metadata": {},
          "output_type": "display_data"
        }
      ],
      "source": [
        "# Create a OneHotEncoder for the Attrition column\n",
        "ohe = OneHotEncoder(handle_unknown='ignore', sparse_output=False) # drop first to reduce multicollinearity\n",
        "\n",
        "attrition_ohe = ohe.fit_transform(y_train[['Attrition']])\n",
        "test_attrition_ohe = ohe.transform(y_test[['Attrition']])\n",
        "\n",
        "# Fit the encoder to the training data\n",
        "\n",
        "\n",
        "# Create two new variables by applying the encoder\n",
        "# to the training and testing data\n",
        "\n",
        "y_train_att = pd.DataFrame(attrition_ohe, columns=ohe.get_feature_names_out())\n",
        "y_test_att = pd.DataFrame(test_attrition_ohe, columns=ohe.get_feature_names_out())\n",
        "\n",
        "display(y_train_att)\n"
      ]
    },
    {
      "cell_type": "markdown",
      "metadata": {
        "id": "ykNmu_WWGc3T"
      },
      "source": [
        "## Create, Compile, and Train the Model"
      ]
    },
    {
      "cell_type": "code",
      "execution_count": 17,
      "metadata": {
        "id": "WUptZqmSGc3T"
      },
      "outputs": [],
      "source": [
        "# Find the number of columns in the X training data\n",
        "inputs = X_train.shape[1:]\n",
        "\n",
        "# Create the input layer\n",
        "input_layer = layers.Input(shape=(inputs))\n",
        "\n",
        "# Create at least two shared layers\n",
        "shared_layer1 = layers.Dense(128, activation='relu')(input_layer)\n",
        "shared_layer2 = layers.Dense(64, activation='relu')(shared_layer1)\n",
        "shared_layer3 = layers.Dense(32, activation='relu')(shared_layer2)\n"
      ]
    },
    {
      "cell_type": "code",
      "execution_count": 18,
      "metadata": {
        "id": "JukjTm2yTEqd"
      },
      "outputs": [],
      "source": [
        "# Create a branch for Department\n",
        "# with a hidden layer and an output layer\n",
        "\n",
        "# Create the hidden layer\n",
        "dept_hidden = layers.Dense(16, activation='relu')(shared_layer3)\n",
        "\n",
        "# Create the output layer\n",
        "dept_output = layers.Dense(y_train_dep.shape[1], activation='sigmoid', name='dept_output')(dept_hidden)\n"
      ]
    },
    {
      "cell_type": "code",
      "execution_count": 19,
      "metadata": {
        "id": "9OqhUiOJUBkR"
      },
      "outputs": [],
      "source": [
        "# Create a branch for Attrition\n",
        "# with a hidden layer and an output layer\n",
        "\n",
        "# Create the hidden layer\n",
        "attr_hidden = layers.Dense(16, activation='relu')(shared_layer3)\n",
        "\n",
        "# Create the output layer\n",
        "attr_output = layers.Dense(y_train_att.shape[1], activation='softmax', name='attr_output')(attr_hidden)\n"
      ]
    },
    {
      "cell_type": "code",
      "execution_count": 20,
      "metadata": {},
      "outputs": [],
      "source": [
        "# https://datascience.stackexchange.com/questions/45165/how-to-get-accuracy-f1-precision-and-recall-for-a-keras-model\n",
        "# used github copilot and above link to create custom metrics\n",
        "\n",
        "from keras import backend as K\n",
        "\n",
        "def recall_m(y_true, y_pred):\n",
        "    true_positives = K.sum(K.round(K.clip(y_true * y_pred, 0, 1)))\n",
        "    possible_positives = K.sum(K.round(K.clip(y_true, 0, 1)))\n",
        "    recall = true_positives / (possible_positives + K.epsilon())\n",
        "    return recall\n",
        "\n",
        "def precision_m(y_true, y_pred):\n",
        "    true_positives = K.sum(K.round(K.clip(y_true * y_pred, 0, 1)))\n",
        "    predicted_positives = K.sum(K.round(K.clip(y_pred, 0, 1)))\n",
        "    precision = true_positives / (predicted_positives + K.epsilon())\n",
        "    return precision\n",
        "\n",
        "def f1_m(y_true, y_pred):\n",
        "    precision = precision_m(y_true, y_pred)\n",
        "    recall = recall_m(y_true, y_pred)\n",
        "    return 2*((precision*recall)/(precision+recall+K.epsilon()))\n"
      ]
    },
    {
      "cell_type": "code",
      "execution_count": 21,
      "metadata": {},
      "outputs": [],
      "source": [
        "# keras was defined as layers in the beginning\n",
        "import tensorflow as tf\n",
        "early_stopping = tf.keras.callbacks.EarlyStopping(monitor='val_loss', patience=5)"
      ]
    },
    {
      "cell_type": "code",
      "execution_count": 22,
      "metadata": {
        "colab": {
          "base_uri": "https://localhost:8080/"
        },
        "id": "twmuejdxGc3T",
        "outputId": "25096308-b68b-42e4-e4ea-ae82e97c435a"
      },
      "outputs": [
        {
          "name": "stdout",
          "output_type": "stream",
          "text": [
            "Model: \"model\"\n",
            "__________________________________________________________________________________________________\n",
            " Layer (type)                Output Shape                 Param #   Connected to                  \n",
            "==================================================================================================\n",
            " input_1 (InputLayer)        [(None, 22)]                 0         []                            \n",
            "                                                                                                  \n",
            " dense (Dense)               (None, 128)                  2944      ['input_1[0][0]']             \n",
            "                                                                                                  \n",
            " dense_1 (Dense)             (None, 64)                   8256      ['dense[0][0]']               \n",
            "                                                                                                  \n",
            " dense_2 (Dense)             (None, 32)                   2080      ['dense_1[0][0]']             \n",
            "                                                                                                  \n",
            " dense_3 (Dense)             (None, 16)                   528       ['dense_2[0][0]']             \n",
            "                                                                                                  \n",
            " dense_4 (Dense)             (None, 16)                   528       ['dense_2[0][0]']             \n",
            "                                                                                                  \n"
          ]
        },
        {
          "name": "stdout",
          "output_type": "stream",
          "text": [
            " dept_output (Dense)         (None, 3)                    51        ['dense_3[0][0]']             \n",
            "                                                                                                  \n",
            " attr_output (Dense)         (None, 2)                    34        ['dense_4[0][0]']             \n",
            "                                                                                                  \n",
            "==================================================================================================\n",
            "Total params: 14421 (56.33 KB)\n",
            "Trainable params: 14421 (56.33 KB)\n",
            "Non-trainable params: 0 (0.00 Byte)\n",
            "__________________________________________________________________________________________________\n"
          ]
        }
      ],
      "source": [
        "# Create the model\n",
        "nn_model = Model(inputs=input_layer, outputs=[dept_output, attr_output])\n",
        "\n",
        "# Compile the model\n",
        "nn_model.compile(optimizer='adam',\n",
        "                loss={'dept_output': 'categorical_crossentropy', 'attr_output': 'binary_crossentropy'},\n",
        "                metrics={'dept_output': ['accuracy', f1_m, precision_m, recall_m],\n",
        "                        'attr_output': ['accuracy', f1_m, precision_m, recall_m]})\n",
        "\n",
        "\n",
        "# Summarize the model\n",
        "nn_model.summary()\n"
      ]
    },
    {
      "cell_type": "code",
      "execution_count": 23,
      "metadata": {
        "colab": {
          "base_uri": "https://localhost:8080/"
        },
        "id": "c8oGy0dpGc3U",
        "outputId": "cc667d43-28cf-42d4-d719-c2bc02888d30"
      },
      "outputs": [
        {
          "name": "stdout",
          "output_type": "stream",
          "text": [
            "Epoch 1/256\n",
            "9/9 [==============================] - 4s 91ms/step - loss: 1.5974 - dept_output_loss: 0.9300 - attr_output_loss: 0.6674 - dept_output_accuracy: 0.5528 - dept_output_f1_m: 0.6305 - dept_output_precision_m: 0.4729 - dept_output_recall_m: 0.9454 - attr_output_accuracy: 0.8014 - attr_output_f1_m: 0.8019 - attr_output_precision_m: 0.8019 - attr_output_recall_m: 0.8019 - val_loss: 1.4301 - val_dept_output_loss: 0.7912 - val_attr_output_loss: 0.6389 - val_dept_output_accuracy: 0.6878 - val_dept_output_f1_m: 0.6556 - val_dept_output_precision_m: 0.4917 - val_dept_output_recall_m: 0.9833 - val_attr_output_accuracy: 0.8643 - val_attr_output_f1_m: 0.8749 - val_attr_output_precision_m: 0.8749 - val_attr_output_recall_m: 0.8749\n",
            "Epoch 2/256\n",
            "9/9 [==============================] - 0s 8ms/step - loss: 1.3821 - dept_output_loss: 0.7602 - attr_output_loss: 0.6219 - dept_output_accuracy: 0.6561 - dept_output_f1_m: 0.6376 - dept_output_precision_m: 0.4782 - dept_output_recall_m: 0.9564 - attr_output_accuracy: 0.8411 - attr_output_f1_m: 0.8413 - attr_output_precision_m: 0.8413 - attr_output_recall_m: 0.8413 - val_loss: 1.2469 - val_dept_output_loss: 0.6796 - val_attr_output_loss: 0.5674 - val_dept_output_accuracy: 0.6742 - val_dept_output_f1_m: 0.6556 - val_dept_output_precision_m: 0.4917 - val_dept_output_recall_m: 0.9833 - val_attr_output_accuracy: 0.8688 - val_attr_output_f1_m: 0.8783 - val_attr_output_precision_m: 0.8783 - val_attr_output_recall_m: 0.8783\n",
            "Epoch 3/256\n",
            "9/9 [==============================] - 0s 8ms/step - loss: 1.2333 - dept_output_loss: 0.6832 - attr_output_loss: 0.5502 - dept_output_accuracy: 0.6958 - dept_output_f1_m: 0.6374 - dept_output_precision_m: 0.4781 - dept_output_recall_m: 0.9561 - attr_output_accuracy: 0.8411 - attr_output_f1_m: 0.8413 - attr_output_precision_m: 0.8413 - attr_output_recall_m: 0.8413 - val_loss: 1.1011 - val_dept_output_loss: 0.6230 - val_attr_output_loss: 0.4781 - val_dept_output_accuracy: 0.7466 - val_dept_output_f1_m: 0.6556 - val_dept_output_precision_m: 0.4917 - val_dept_output_recall_m: 0.9833 - val_attr_output_accuracy: 0.8688 - val_attr_output_f1_m: 0.8783 - val_attr_output_precision_m: 0.8783 - val_attr_output_recall_m: 0.8783\n",
            "Epoch 4/256\n",
            "9/9 [==============================] - 0s 8ms/step - loss: 1.1038 - dept_output_loss: 0.6166 - attr_output_loss: 0.4872 - dept_output_accuracy: 0.7696 - dept_output_f1_m: 0.6382 - dept_output_precision_m: 0.4789 - dept_output_recall_m: 0.9561 - attr_output_accuracy: 0.8411 - attr_output_f1_m: 0.8405 - attr_output_precision_m: 0.8405 - attr_output_recall_m: 0.8405 - val_loss: 0.9908 - val_dept_output_loss: 0.5683 - val_attr_output_loss: 0.4225 - val_dept_output_accuracy: 0.7964 - val_dept_output_f1_m: 0.6577 - val_dept_output_precision_m: 0.4941 - val_dept_output_recall_m: 0.9833 - val_attr_output_accuracy: 0.8688 - val_attr_output_f1_m: 0.8783 - val_attr_output_precision_m: 0.8783 - val_attr_output_recall_m: 0.8783\n",
            "Epoch 5/256\n",
            "9/9 [==============================] - 0s 17ms/step - loss: 0.9929 - dept_output_loss: 0.5426 - attr_output_loss: 0.4503 - dept_output_accuracy: 0.8320 - dept_output_f1_m: 0.6538 - dept_output_precision_m: 0.4970 - dept_output_recall_m: 0.9556 - attr_output_accuracy: 0.8411 - attr_output_f1_m: 0.8398 - attr_output_precision_m: 0.8398 - attr_output_recall_m: 0.8398 - val_loss: 0.9089 - val_dept_output_loss: 0.5166 - val_attr_output_loss: 0.3923 - val_dept_output_accuracy: 0.8190 - val_dept_output_f1_m: 0.6868 - val_dept_output_precision_m: 0.5279 - val_dept_output_recall_m: 0.9833 - val_attr_output_accuracy: 0.8688 - val_attr_output_f1_m: 0.8783 - val_attr_output_precision_m: 0.8783 - val_attr_output_recall_m: 0.8783\n",
            "Epoch 6/256\n",
            "9/9 [==============================] - 0s 8ms/step - loss: 0.8982 - dept_output_loss: 0.4737 - attr_output_loss: 0.4245 - dept_output_accuracy: 0.8661 - dept_output_f1_m: 0.6905 - dept_output_precision_m: 0.5379 - dept_output_recall_m: 0.9645 - attr_output_accuracy: 0.8411 - attr_output_f1_m: 0.8416 - attr_output_precision_m: 0.8416 - attr_output_recall_m: 0.8416 - val_loss: 0.8367 - val_dept_output_loss: 0.4588 - val_attr_output_loss: 0.3779 - val_dept_output_accuracy: 0.8507 - val_dept_output_f1_m: 0.6885 - val_dept_output_precision_m: 0.5334 - val_dept_output_recall_m: 0.9708 - val_attr_output_accuracy: 0.8688 - val_attr_output_f1_m: 0.8783 - val_attr_output_precision_m: 0.8783 - val_attr_output_recall_m: 0.8783\n",
            "Epoch 7/256\n",
            "9/9 [==============================] - 0s 8ms/step - loss: 0.8197 - dept_output_loss: 0.4133 - attr_output_loss: 0.4063 - dept_output_accuracy: 0.8854 - dept_output_f1_m: 0.6758 - dept_output_precision_m: 0.5154 - dept_output_recall_m: 0.9820 - attr_output_accuracy: 0.8411 - attr_output_f1_m: 0.8411 - attr_output_precision_m: 0.8411 - attr_output_recall_m: 0.8411 - val_loss: 0.7857 - val_dept_output_loss: 0.4179 - val_attr_output_loss: 0.3679 - val_dept_output_accuracy: 0.8959 - val_dept_output_f1_m: 0.6428 - val_dept_output_precision_m: 0.4845 - val_dept_output_recall_m: 0.9549 - val_attr_output_accuracy: 0.8688 - val_attr_output_f1_m: 0.8783 - val_attr_output_precision_m: 0.8783 - val_attr_output_recall_m: 0.8783\n",
            "Epoch 8/256\n",
            "9/9 [==============================] - 0s 10ms/step - loss: 0.7568 - dept_output_loss: 0.3622 - attr_output_loss: 0.3946 - dept_output_accuracy: 0.8990 - dept_output_f1_m: 0.6593 - dept_output_precision_m: 0.4960 - dept_output_recall_m: 0.9828 - attr_output_accuracy: 0.8411 - attr_output_f1_m: 0.8416 - attr_output_precision_m: 0.8416 - attr_output_recall_m: 0.8416 - val_loss: 0.7465 - val_dept_output_loss: 0.3861 - val_attr_output_loss: 0.3604 - val_dept_output_accuracy: 0.8959 - val_dept_output_f1_m: 0.6337 - val_dept_output_precision_m: 0.4742 - val_dept_output_recall_m: 0.9549 - val_attr_output_accuracy: 0.8688 - val_attr_output_f1_m: 0.8783 - val_attr_output_precision_m: 0.8783 - val_attr_output_recall_m: 0.8783\n",
            "Epoch 9/256\n",
            "9/9 [==============================] - 0s 9ms/step - loss: 0.7056 - dept_output_loss: 0.3214 - attr_output_loss: 0.3843 - dept_output_accuracy: 0.9001 - dept_output_f1_m: 0.6617 - dept_output_precision_m: 0.4968 - dept_output_recall_m: 0.9909 - attr_output_accuracy: 0.8411 - attr_output_f1_m: 0.8403 - attr_output_precision_m: 0.8403 - attr_output_recall_m: 0.8403 - val_loss: 0.7460 - val_dept_output_loss: 0.3937 - val_attr_output_loss: 0.3523 - val_dept_output_accuracy: 0.8959 - val_dept_output_f1_m: 0.6420 - val_dept_output_precision_m: 0.4844 - val_dept_output_recall_m: 0.9516 - val_attr_output_accuracy: 0.8688 - val_attr_output_f1_m: 0.8783 - val_attr_output_precision_m: 0.8783 - val_attr_output_recall_m: 0.8783\n",
            "Epoch 10/256\n",
            "9/9 [==============================] - 0s 8ms/step - loss: 0.6685 - dept_output_loss: 0.2948 - attr_output_loss: 0.3737 - dept_output_accuracy: 0.9126 - dept_output_f1_m: 0.6588 - dept_output_precision_m: 0.4943 - dept_output_recall_m: 0.9875 - attr_output_accuracy: 0.8411 - attr_output_f1_m: 0.8434 - attr_output_precision_m: 0.8434 - attr_output_recall_m: 0.8434 - val_loss: 0.7373 - val_dept_output_loss: 0.3873 - val_attr_output_loss: 0.3500 - val_dept_output_accuracy: 0.8552 - val_dept_output_f1_m: 0.6403 - val_dept_output_precision_m: 0.4800 - val_dept_output_recall_m: 0.9616 - val_attr_output_accuracy: 0.8688 - val_attr_output_f1_m: 0.8783 - val_attr_output_precision_m: 0.8783 - val_attr_output_recall_m: 0.8783\n",
            "Epoch 11/256\n",
            "9/9 [==============================] - 0s 9ms/step - loss: 0.6453 - dept_output_loss: 0.2828 - attr_output_loss: 0.3626 - dept_output_accuracy: 0.9092 - dept_output_f1_m: 0.6600 - dept_output_precision_m: 0.4956 - dept_output_recall_m: 0.9875 - attr_output_accuracy: 0.8422 - attr_output_f1_m: 0.8432 - attr_output_precision_m: 0.8432 - attr_output_recall_m: 0.8432 - val_loss: 0.6931 - val_dept_output_loss: 0.3504 - val_attr_output_loss: 0.3427 - val_dept_output_accuracy: 0.8869 - val_dept_output_f1_m: 0.6381 - val_dept_output_precision_m: 0.4791 - val_dept_output_recall_m: 0.9549 - val_attr_output_accuracy: 0.8733 - val_attr_output_f1_m: 0.8816 - val_attr_output_precision_m: 0.8816 - val_attr_output_recall_m: 0.8816\n",
            "Epoch 12/256\n",
            "9/9 [==============================] - 0s 9ms/step - loss: 0.5992 - dept_output_loss: 0.2463 - attr_output_loss: 0.3529 - dept_output_accuracy: 0.9069 - dept_output_f1_m: 0.6612 - dept_output_precision_m: 0.4959 - dept_output_recall_m: 0.9920 - attr_output_accuracy: 0.8456 - attr_output_f1_m: 0.8458 - attr_output_precision_m: 0.8458 - attr_output_recall_m: 0.8458 - val_loss: 0.7045 - val_dept_output_loss: 0.3675 - val_attr_output_loss: 0.3370 - val_dept_output_accuracy: 0.9005 - val_dept_output_f1_m: 0.6349 - val_dept_output_precision_m: 0.4764 - val_dept_output_recall_m: 0.9516 - val_attr_output_accuracy: 0.8778 - val_attr_output_f1_m: 0.8849 - val_attr_output_precision_m: 0.8849 - val_attr_output_recall_m: 0.8849\n",
            "Epoch 13/256\n",
            "9/9 [==============================] - 0s 9ms/step - loss: 0.5757 - dept_output_loss: 0.2341 - attr_output_loss: 0.3416 - dept_output_accuracy: 0.9217 - dept_output_f1_m: 0.6647 - dept_output_precision_m: 0.4998 - dept_output_recall_m: 0.9922 - attr_output_accuracy: 0.8593 - attr_output_f1_m: 0.8575 - attr_output_precision_m: 0.8575 - attr_output_recall_m: 0.8575 - val_loss: 0.6712 - val_dept_output_loss: 0.3352 - val_attr_output_loss: 0.3359 - val_dept_output_accuracy: 0.8914 - val_dept_output_f1_m: 0.6433 - val_dept_output_precision_m: 0.4833 - val_dept_output_recall_m: 0.9616 - val_attr_output_accuracy: 0.8778 - val_attr_output_f1_m: 0.8849 - val_attr_output_precision_m: 0.8849 - val_attr_output_recall_m: 0.8849\n",
            "Epoch 14/256\n",
            "9/9 [==============================] - 0s 9ms/step - loss: 0.5402 - dept_output_loss: 0.2090 - attr_output_loss: 0.3312 - dept_output_accuracy: 0.9285 - dept_output_f1_m: 0.6639 - dept_output_precision_m: 0.4980 - dept_output_recall_m: 0.9956 - attr_output_accuracy: 0.8672 - attr_output_f1_m: 0.8669 - attr_output_precision_m: 0.8669 - attr_output_recall_m: 0.8669 - val_loss: 0.6694 - val_dept_output_loss: 0.3359 - val_attr_output_loss: 0.3336 - val_dept_output_accuracy: 0.9095 - val_dept_output_f1_m: 0.6461 - val_dept_output_precision_m: 0.4883 - val_dept_output_recall_m: 0.9549 - val_attr_output_accuracy: 0.8688 - val_attr_output_f1_m: 0.8783 - val_attr_output_precision_m: 0.8783 - val_attr_output_recall_m: 0.8783\n",
            "Epoch 15/256\n",
            "9/9 [==============================] - 0s 7ms/step - loss: 0.5168 - dept_output_loss: 0.1963 - attr_output_loss: 0.3206 - dept_output_accuracy: 0.9308 - dept_output_f1_m: 0.6664 - dept_output_precision_m: 0.5006 - dept_output_recall_m: 0.9967 - attr_output_accuracy: 0.8729 - attr_output_f1_m: 0.8729 - attr_output_precision_m: 0.8729 - attr_output_recall_m: 0.8729 - val_loss: 0.6588 - val_dept_output_loss: 0.3263 - val_attr_output_loss: 0.3325 - val_dept_output_accuracy: 0.9050 - val_dept_output_f1_m: 0.6458 - val_dept_output_precision_m: 0.4861 - val_dept_output_recall_m: 0.9616 - val_attr_output_accuracy: 0.8733 - val_attr_output_f1_m: 0.8816 - val_attr_output_precision_m: 0.8816 - val_attr_output_recall_m: 0.8816\n",
            "Epoch 16/256\n",
            "9/9 [==============================] - 0s 8ms/step - loss: 0.4904 - dept_output_loss: 0.1806 - attr_output_loss: 0.3097 - dept_output_accuracy: 0.9342 - dept_output_f1_m: 0.6673 - dept_output_precision_m: 0.5013 - dept_output_recall_m: 0.9978 - attr_output_accuracy: 0.8729 - attr_output_f1_m: 0.8729 - attr_output_precision_m: 0.8729 - attr_output_recall_m: 0.8729 - val_loss: 0.6668 - val_dept_output_loss: 0.3264 - val_attr_output_loss: 0.3403 - val_dept_output_accuracy: 0.8959 - val_dept_output_f1_m: 0.6506 - val_dept_output_precision_m: 0.4917 - val_dept_output_recall_m: 0.9616 - val_attr_output_accuracy: 0.8597 - val_attr_output_f1_m: 0.8716 - val_attr_output_precision_m: 0.8716 - val_attr_output_recall_m: 0.8716\n",
            "Epoch 17/256\n",
            "9/9 [==============================] - 0s 10ms/step - loss: 0.4673 - dept_output_loss: 0.1670 - attr_output_loss: 0.3003 - dept_output_accuracy: 0.9330 - dept_output_f1_m: 0.6683 - dept_output_precision_m: 0.5027 - dept_output_recall_m: 0.9967 - attr_output_accuracy: 0.8797 - attr_output_f1_m: 0.8799 - attr_output_precision_m: 0.8799 - attr_output_recall_m: 0.8799 - val_loss: 0.6733 - val_dept_output_loss: 0.3308 - val_attr_output_loss: 0.3425 - val_dept_output_accuracy: 0.9095 - val_dept_output_f1_m: 0.6529 - val_dept_output_precision_m: 0.4942 - val_dept_output_recall_m: 0.9616 - val_attr_output_accuracy: 0.8597 - val_attr_output_f1_m: 0.8716 - val_attr_output_precision_m: 0.8716 - val_attr_output_recall_m: 0.8716\n",
            "Epoch 18/256\n",
            "9/9 [==============================] - 0s 8ms/step - loss: 0.4481 - dept_output_loss: 0.1561 - attr_output_loss: 0.2920 - dept_output_accuracy: 0.9364 - dept_output_f1_m: 0.6699 - dept_output_precision_m: 0.5039 - dept_output_recall_m: 0.9989 - attr_output_accuracy: 0.8876 - attr_output_f1_m: 0.8884 - attr_output_precision_m: 0.8884 - attr_output_recall_m: 0.8884 - val_loss: 0.6788 - val_dept_output_loss: 0.3333 - val_attr_output_loss: 0.3455 - val_dept_output_accuracy: 0.8869 - val_dept_output_f1_m: 0.6491 - val_dept_output_precision_m: 0.4900 - val_dept_output_recall_m: 0.9616 - val_attr_output_accuracy: 0.8597 - val_attr_output_f1_m: 0.8716 - val_attr_output_precision_m: 0.8716 - val_attr_output_recall_m: 0.8716\n",
            "Epoch 19/256\n",
            "9/9 [==============================] - 0s 8ms/step - loss: 0.4341 - dept_output_loss: 0.1493 - attr_output_loss: 0.2849 - dept_output_accuracy: 0.9364 - dept_output_f1_m: 0.6692 - dept_output_precision_m: 0.5032 - dept_output_recall_m: 0.9989 - attr_output_accuracy: 0.8888 - attr_output_f1_m: 0.8888 - attr_output_precision_m: 0.8888 - attr_output_recall_m: 0.8888 - val_loss: 0.7025 - val_dept_output_loss: 0.3512 - val_attr_output_loss: 0.3514 - val_dept_output_accuracy: 0.9005 - val_dept_output_f1_m: 0.6487 - val_dept_output_precision_m: 0.4904 - val_dept_output_recall_m: 0.9583 - val_attr_output_accuracy: 0.8643 - val_attr_output_f1_m: 0.8875 - val_attr_output_precision_m: 0.8875 - val_attr_output_recall_m: 0.8875\n",
            "Epoch 20/256\n",
            "9/9 [==============================] - 0s 8ms/step - loss: 0.4168 - dept_output_loss: 0.1408 - attr_output_loss: 0.2760 - dept_output_accuracy: 0.9398 - dept_output_f1_m: 0.6723 - dept_output_precision_m: 0.5067 - dept_output_recall_m: 0.9989 - attr_output_accuracy: 0.8944 - attr_output_f1_m: 0.8938 - attr_output_precision_m: 0.8938 - attr_output_recall_m: 0.8938 - val_loss: 0.6937 - val_dept_output_loss: 0.3402 - val_attr_output_loss: 0.3535 - val_dept_output_accuracy: 0.8778 - val_dept_output_f1_m: 0.6536 - val_dept_output_precision_m: 0.4951 - val_dept_output_recall_m: 0.9616 - val_attr_output_accuracy: 0.8597 - val_attr_output_f1_m: 0.8716 - val_attr_output_precision_m: 0.8716 - val_attr_output_recall_m: 0.8716\n"
          ]
        }
      ],
      "source": [
        "# Train the model\n",
        "history = nn_model.fit(X_train, {'dept_output': y_train_dep, 'attr_output': y_train_att},\n",
        "                        epochs=256, batch_size=100, verbose=1, validation_split=0.2, callbacks=[early_stopping])\n"
      ]
    },
    {
      "cell_type": "code",
      "execution_count": 26,
      "metadata": {},
      "outputs": [],
      "source": [
        "def print_res(acc, f1, prec, rec):\n",
        "    print(f'Accuracy: {acc}')\n",
        "    print(f'F1: {f1}')\n",
        "    print(f'Precision: {prec}')\n",
        "    print(f'Recall: {rec}')"
      ]
    },
    {
      "cell_type": "code",
      "execution_count": 29,
      "metadata": {
        "colab": {
          "base_uri": "https://localhost:8080/"
        },
        "id": "VsMoaQlgGc3U",
        "outputId": "1bd4e601-e964-4abc-ad83-aeecf6b696be"
      },
      "outputs": [
        {
          "name": "stdout",
          "output_type": "stream",
          "text": [
            "12/12 [==============================] - 0s 2ms/step - loss: 0.7913 - dept_output_loss: 0.4030 - attr_output_loss: 0.3882 - dept_output_accuracy: 0.8750 - dept_output_f1_m: 0.6597 - dept_output_precision_m: 0.4961 - dept_output_recall_m: 0.9844 - attr_output_accuracy: 0.8641 - attr_output_f1_m: 0.8620 - attr_output_precision_m: 0.8620 - attr_output_recall_m: 0.8620\n",
            "Loss: 0.791265070438385, Department Loss: 0.4030325412750244, Attrition Loss: 0.38823243975639343\n",
            "Department Results:\n",
            "Accuracy: 0.875\n",
            "F1: 0.6596977114677429\n",
            "Precision: 0.49609342217445374\n",
            "Recall: 0.984375\n",
            "Attrition Results:\n",
            "Accuracy: 0.864130437374115\n",
            "F1: 0.861979067325592\n",
            "Precision: 0.8619791865348816\n",
            "Recall: 0.8619791865348816\n"
          ]
        }
      ],
      "source": [
        "# Evaluate the model with the testing data\n",
        "results = nn_model.evaluate(X_scaled_test, {'dept_output': y_test_dep, 'attr_output': y_test_att}, verbose=1)\n",
        "\n",
        "print(f'Loss: {results[0]}, Department Loss: {results[1]}, Attrition Loss: {results[2]}')\n",
        "# Print the model loss and accuracy results\n",
        "print('Department Results:')\n",
        "print_res(results[3], results[4], results[5], results[6])\n",
        "print('Attrition Results:')\n",
        "print_res(results[7], results[8], results[9], results[10])\n"
      ]
    },
    {
      "cell_type": "markdown",
      "metadata": {
        "id": "eGSyfsZfWOQM"
      },
      "source": [
        "# Summary\n",
        "\n",
        "In the provided space below, briefly answer the following questions.\n",
        "\n",
        "1. Is accuracy the best metric to use on this data? Why or why not?\n",
        "\n",
        "2. What activation functions did you choose for your output layers, and why?\n",
        "\n",
        "3. Can you name a few ways that this model might be improved?"
      ]
    },
    {
      "cell_type": "markdown",
      "metadata": {
        "id": "pi9SLpFnWvbF"
      },
      "source": [
        "YOUR ANSWERS HERE\n",
        "\n",
        "1. I feel that accuracy is an okay metric to use for this, as we are looking to\n",
        "see if we were able to correctly predict the outcomes. F1, Precision, and Recall\n",
        "are also viable metrics here. However we would not be able to use something like\n",
        "regression as we're not predicting how close to a value we are achieving.  \n",
        "2. I chose to use sigmoid for the department results because there may be the possibility\n",
        "for someone to do a roll that spans 2 departments or we may end up adding a department\n",
        "as the company grows  \n",
        "3. The easiest way to improve most models is to have more data. You could also try\n",
        "adjusting the values in the hidden layers, like trying different activations or\n",
        "changing the number of neurons each layer has or the number of layers.  "
      ]
    },
    {
      "cell_type": "markdown",
      "metadata": {},
      "source": []
    }
  ],
  "metadata": {
    "colab": {
      "provenance": []
    },
    "kernelspec": {
      "display_name": "Python 3",
      "language": "python",
      "name": "python3"
    },
    "language_info": {
      "codemirror_mode": {
        "name": "ipython",
        "version": 3
      },
      "file_extension": ".py",
      "mimetype": "text/x-python",
      "name": "python",
      "nbconvert_exporter": "python",
      "pygments_lexer": "ipython3",
      "version": "3.10.13"
    },
    "vscode": {
      "interpreter": {
        "hash": "31f2aee4e71d21fbe5cf8b01ff0e069b9275f58929596ceb00d14d90e3e16cd6"
      }
    }
  },
  "nbformat": 4,
  "nbformat_minor": 0
}
